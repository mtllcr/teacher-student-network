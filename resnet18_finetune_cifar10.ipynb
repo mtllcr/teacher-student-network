{
  "nbformat": 4,
  "nbformat_minor": 0,
  "metadata": {
    "colab": {
      "provenance": [],
      "gpuType": "A100",
      "machine_shape": "hm"
    },
    "kernelspec": {
      "name": "python3",
      "display_name": "Python 3"
    },
    "language_info": {
      "name": "python"
    },
    "accelerator": "GPU"
  },
  "cells": [
    {
      "cell_type": "markdown",
      "source": [
        "## Experiment Notebook"
      ],
      "metadata": {
        "id": "Qp2QLMuobo1S"
      }
    },
    {
      "cell_type": "code",
      "source": [
        "import torch\n",
        "import torch.nn as nn\n",
        "import torch.optim as optim\n",
        "import torchvision\n",
        "import torchvision.transforms as transforms\n",
        "from torchvision import models\n",
        "from torch.utils.data import DataLoader, random_split\n",
        "import numpy as np\n",
        "import random\n",
        "import matplotlib.pyplot as plt"
      ],
      "metadata": {
        "id": "a3NgyVaTUNXu"
      },
      "execution_count": 1,
      "outputs": []
    },
    {
      "cell_type": "code",
      "source": [
        "device = torch.device('cuda' if torch.cuda.is_available() else 'cpu')\n",
        "print(\"You are using device: %s\" % device)"
      ],
      "metadata": {
        "colab": {
          "base_uri": "https://localhost:8080/"
        },
        "id": "blFuSoeFcnSr",
        "outputId": "5cb20391-03f6-46c9-99cf-977a4fa659c6"
      },
      "execution_count": 2,
      "outputs": [
        {
          "output_type": "stream",
          "name": "stdout",
          "text": [
            "You are using device: cuda\n"
          ]
        }
      ]
    },
    {
      "cell_type": "markdown",
      "source": [
        "### Load data"
      ],
      "metadata": {
        "id": "NYQO5gRM1LK4"
      }
    },
    {
      "cell_type": "code",
      "source": [
        "transform_train = transforms.Compose([\n",
        "        transforms.RandomResizedCrop(224),\n",
        "        transforms.RandomHorizontalFlip(),\n",
        "        transforms.ToTensor(),\n",
        "        transforms.Normalize([0.485, 0.456, 0.406], [0.229, 0.224, 0.225])\n",
        "    ])\n",
        "\n",
        "transform_test = transforms.Compose([\n",
        "        transforms.Resize(256),\n",
        "        transforms.CenterCrop(224),\n",
        "        transforms.ToTensor(),\n",
        "        transforms.Normalize([0.485, 0.456, 0.406], [0.229, 0.224, 0.225])\n",
        "    ])"
      ],
      "metadata": {
        "id": "Xz-3zd2-1Tvb"
      },
      "execution_count": 3,
      "outputs": []
    },
    {
      "cell_type": "code",
      "source": [
        "# transform = transforms.Compose([\n",
        "#     transforms.ToTensor(),\n",
        "#     transforms.Resize((224, 224)),\n",
        "#     transforms.Normalize([0.485, 0.456, 0.406], [0.229, 0.224, 0.225])\n",
        "# ])"
      ],
      "metadata": {
        "id": "GnirLXg-8DVx"
      },
      "execution_count": 4,
      "outputs": []
    },
    {
      "cell_type": "code",
      "source": [
        "train_dataset = torchvision.datasets.CIFAR10(root='./data', train=True, download=True, transform=transform_train)\n",
        "train_dataset_val = torchvision.datasets.CIFAR10(root='./data', train=True, download=True, transform=transform_test)\n",
        "test_dataset = torchvision.datasets.CIFAR10(root='./data', train=False, download=True, transform=transform_test)"
      ],
      "metadata": {
        "colab": {
          "base_uri": "https://localhost:8080/"
        },
        "id": "cutGB8dg1KOZ",
        "outputId": "ea8bb50b-acae-477f-8b8c-c13f96051825"
      },
      "execution_count": 5,
      "outputs": [
        {
          "output_type": "stream",
          "name": "stdout",
          "text": [
            "Downloading https://www.cs.toronto.edu/~kriz/cifar-10-python.tar.gz to ./data/cifar-10-python.tar.gz\n"
          ]
        },
        {
          "output_type": "stream",
          "name": "stderr",
          "text": [
            "100%|██████████| 170498071/170498071 [00:13<00:00, 13040484.29it/s]\n"
          ]
        },
        {
          "output_type": "stream",
          "name": "stdout",
          "text": [
            "Extracting ./data/cifar-10-python.tar.gz to ./data\n",
            "Files already downloaded and verified\n",
            "Files already downloaded and verified\n"
          ]
        }
      ]
    },
    {
      "cell_type": "code",
      "source": [
        "batch_size = 32\n",
        "train_loader = DataLoader(train_dataset, batch_size=batch_size, shuffle=True)\n",
        "train_loader_val = DataLoader(train_dataset_val, batch_size=batch_size, shuffle=True)\n",
        "test_loader = DataLoader(test_dataset, batch_size=batch_size, shuffle=False)"
      ],
      "metadata": {
        "id": "RiqYkZdo1Xow"
      },
      "execution_count": 6,
      "outputs": []
    },
    {
      "cell_type": "markdown",
      "source": [
        "### Load ResNet50 Teacher model"
      ],
      "metadata": {
        "id": "II7MMSQl5X0e"
      }
    },
    {
      "cell_type": "code",
      "source": [
        "# teacher = models.resnet50(weights=models.ResNet50_Weights.IMAGENET1K_V1)\n",
        "teacher = models.resnet18(weights=models.ResNet18_Weights.IMAGENET1K_V1)"
      ],
      "metadata": {
        "id": "znLvHI9p1dD2",
        "colab": {
          "base_uri": "https://localhost:8080/"
        },
        "outputId": "5560b99b-23b1-40fd-9a16-d5a442f9a837"
      },
      "execution_count": 7,
      "outputs": [
        {
          "output_type": "stream",
          "name": "stderr",
          "text": [
            "Downloading: \"https://download.pytorch.org/models/resnet18-f37072fd.pth\" to /root/.cache/torch/hub/checkpoints/resnet18-f37072fd.pth\n",
            "100%|██████████| 44.7M/44.7M [00:00<00:00, 177MB/s]\n"
          ]
        }
      ]
    },
    {
      "cell_type": "code",
      "source": [
        "# teacher.conv1 = nn.Conv2d(3, 64, kernel_size=3, stride=1, padding=1, bias=False)\n",
        "teacher.fc = nn.Linear(teacher.fc.in_features, 10)\n",
        "teacher = teacher.to(device)"
      ],
      "metadata": {
        "id": "SIQ3XWV25iee"
      },
      "execution_count": 8,
      "outputs": []
    },
    {
      "cell_type": "code",
      "source": [
        "for param in teacher.parameters():\n",
        "    param.requires_grad = True"
      ],
      "metadata": {
        "id": "gyBjT4Xnes58"
      },
      "execution_count": 9,
      "outputs": []
    },
    {
      "cell_type": "markdown",
      "source": [
        "### Fine Tune Teacher on Cifar10"
      ],
      "metadata": {
        "id": "pY6Yv7TG6Zsm"
      }
    },
    {
      "cell_type": "code",
      "source": [
        "criterion = nn.CrossEntropyLoss()\n",
        "optimizer = optim.SGD(teacher.parameters(), lr=0.005, momentum=0.9, weight_decay=5e-4)\n",
        "scheduler = optim.lr_scheduler.StepLR(optimizer, step_size=5, gamma=0.1)"
      ],
      "metadata": {
        "id": "4w34xeIC6YmD"
      },
      "execution_count": 10,
      "outputs": []
    },
    {
      "cell_type": "code",
      "source": [
        "num_epochs = 10\n",
        "train_loss = []\n",
        "train_accuracy = []\n",
        "test_loss = []\n",
        "test_accuracy = []\n",
        "\n",
        "for epoch in range(num_epochs):\n",
        "    teacher.train()\n",
        "\n",
        "    # Train\n",
        "    for i, data in enumerate(train_loader, 0):\n",
        "        inputs, labels = data[0].to(device), data[1].to(device)\n",
        "\n",
        "        optimizer.zero_grad()\n",
        "\n",
        "        outputs = teacher(inputs)\n",
        "        loss = criterion(outputs, labels)\n",
        "        loss.backward()\n",
        "        optimizer.step()\n",
        "\n",
        "    # Evaluate\n",
        "    # on training data without augment\n",
        "    teacher.eval()\n",
        "    current_loss = 0.0\n",
        "    correct = 0\n",
        "    total = 0\n",
        "    with torch.no_grad():\n",
        "      for data in train_loader_val:\n",
        "        inputs, labels = data[0].to(device), data[1].to(device)\n",
        "\n",
        "        outputs = teacher(inputs)\n",
        "        loss = criterion(outputs, labels)\n",
        "        current_loss += loss.item()\n",
        "        _, predicted = torch.max(outputs, 1)\n",
        "        total += labels.size(0)\n",
        "        correct += (predicted == labels).sum().item()\n",
        "\n",
        "    train_loss.append(current_loss / len(train_loader))\n",
        "    train_accuracy.append(100 * correct / total)\n",
        "    print('[%d] train_loss: %.3f, train_accuracy: %.2f %%' %\n",
        "     (epoch + 1, current_loss / len(train_loader), 100 * correct / total))\n",
        "\n",
        "    # on testing data\n",
        "    correct_test = 0\n",
        "    total_test = 0\n",
        "    test_current_loss = 0.0\n",
        "    with torch.no_grad():\n",
        "      for data in test_loader:\n",
        "        inputs, labels = data[0].to(device), data[1].to(device)\n",
        "\n",
        "        outputs = teacher(inputs)\n",
        "        loss = criterion(outputs, labels)\n",
        "        test_current_loss += loss.item()\n",
        "        _, predicted = torch.max(outputs, 1)\n",
        "        total_test += labels.size(0)\n",
        "        correct_test += (predicted == labels).sum().item()\n",
        "\n",
        "    test_loss.append(test_current_loss / len(test_loader))\n",
        "    test_accuracy.append(100 * correct_test / total_test)\n",
        "    print('[%d] test_loss: %.3f, test_accuracy: %.2f %%' %\n",
        "     (epoch + 1, test_current_loss / len(test_loader), 100 * correct_test / total_test))\n",
        "\n",
        "    scheduler.step()\n",
        "\n"
      ],
      "metadata": {
        "id": "MFqLunLl6m9M",
        "colab": {
          "base_uri": "https://localhost:8080/"
        },
        "outputId": "c6186676-dffb-46f0-b8e4-30ffa1cc5188"
      },
      "execution_count": null,
      "outputs": [
        {
          "output_type": "stream",
          "name": "stdout",
          "text": [
            "[1] train_loss: 0.349, train_accuracy: 88.17 %\n",
            "[1] test_loss: 0.400, test_accuracy: 86.05 %\n",
            "[2] train_loss: 0.275, train_accuracy: 90.58 %\n",
            "[2] test_loss: 0.333, test_accuracy: 88.98 %\n",
            "[3] train_loss: 0.246, train_accuracy: 91.65 %\n",
            "[3] test_loss: 0.302, test_accuracy: 89.84 %\n",
            "[4] train_loss: 0.213, train_accuracy: 92.60 %\n",
            "[4] test_loss: 0.272, test_accuracy: 90.90 %\n",
            "[5] train_loss: 0.182, train_accuracy: 93.78 %\n",
            "[5] test_loss: 0.241, test_accuracy: 92.00 %\n",
            "[6] train_loss: 0.095, train_accuracy: 96.91 %\n",
            "[6] test_loss: 0.158, test_accuracy: 94.60 %\n",
            "[7] train_loss: 0.082, train_accuracy: 97.34 %\n",
            "[7] test_loss: 0.152, test_accuracy: 94.81 %\n",
            "[8] train_loss: 0.074, train_accuracy: 97.66 %\n",
            "[8] test_loss: 0.143, test_accuracy: 95.07 %\n",
            "[9] train_loss: 0.066, train_accuracy: 97.87 %\n",
            "[9] test_loss: 0.141, test_accuracy: 95.11 %\n",
            "[10] train_loss: 0.063, train_accuracy: 97.98 %\n",
            "[10] test_loss: 0.138, test_accuracy: 95.26 %\n",
            "[11] train_loss: 0.060, train_accuracy: 98.08 %\n",
            "[11] test_loss: 0.136, test_accuracy: 95.29 %\n",
            "[12] train_loss: 0.060, train_accuracy: 98.14 %\n",
            "[12] test_loss: 0.136, test_accuracy: 95.37 %\n",
            "[13] train_loss: 0.060, train_accuracy: 98.13 %\n",
            "[13] test_loss: 0.135, test_accuracy: 95.40 %\n",
            "[14] train_loss: 0.058, train_accuracy: 98.17 %\n",
            "[14] test_loss: 0.134, test_accuracy: 95.33 %\n"
          ]
        }
      ]
    },
    {
      "cell_type": "code",
      "source": [
        "plt.plot(train_loss, label='Training Loss')\n",
        "plt.plot(test_loss, label='Test Loss')\n",
        "plt.xlabel('Epoch')\n",
        "plt.ylabel('Loss')\n",
        "plt.title('Training and Test Loss')\n",
        "plt.legend()\n",
        "plt.grid()\n",
        "plt.show()"
      ],
      "metadata": {
        "id": "BI-DQaBvvvFz"
      },
      "execution_count": null,
      "outputs": []
    },
    {
      "cell_type": "code",
      "source": [
        "plt.plot(train_accuracy, label='Training Accuracy')\n",
        "plt.plot(test_accuracy, label='Test Accuracy')\n",
        "plt.xlabel('Epoch')\n",
        "plt.ylabel('Accuracy (%)')\n",
        "plt.title('Training and Test Accuracy')\n",
        "plt.legend()\n",
        "plt.legend()\n",
        "plt.grid()\n",
        "plt.show()"
      ],
      "metadata": {
        "id": "W1nnBkWlv1cD"
      },
      "execution_count": null,
      "outputs": []
    },
    {
      "cell_type": "code",
      "source": [
        "# torch.save(teacher.state_dict(), 'teacher_finetuned_cifar10.pth')\n",
        "from google.colab import drive\n",
        "drive.mount('/content/drive')\n",
        "torch.save(teacher.state_dict(), \"/content/drive/MyDrive/Colab Notebooks/resnet18_finetuned_cifar10_v2.pth\")"
      ],
      "metadata": {
        "id": "eYjElQC4wDcc"
      },
      "execution_count": null,
      "outputs": []
    },
    {
      "cell_type": "code",
      "source": [],
      "metadata": {
        "id": "-vaUbQeHVJ79"
      },
      "execution_count": null,
      "outputs": []
    },
    {
      "cell_type": "code",
      "source": [],
      "metadata": {
        "id": "_-entmMyVJ-e"
      },
      "execution_count": null,
      "outputs": []
    }
  ]
}