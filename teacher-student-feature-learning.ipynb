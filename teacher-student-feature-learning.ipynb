{
 "cells": [
  {
   "cell_type": "markdown",
   "id": "ba682f49b1aaeb86",
   "metadata": {},
   "source": "# Teacher Student Network Research - learning at layer 6"
  },
  {
   "cell_type": "markdown",
   "id": "e740fcaf00eaf41b",
   "metadata": {},
   "source": [
    "##### Teacher Student Network Research\n",
    "Framework adapted from Official Pytorch Knowledge Distillation Tutorial\n",
    "\n",
    "Author: \n",
    "Asad Amiruddin, \n",
    "Harrison Maximillian Rush, \n",
    "Huy N Ho"
   ]
  },
  {
   "cell_type": "markdown",
   "id": "a92e4ff9cde85e16",
   "metadata": {},
   "source": [
    "### Import library, datasets, loaders"
   ]
  },
  {
   "cell_type": "code",
   "id": "e00f96571c1c5a3d",
   "metadata": {
    "ExecuteTime": {
     "end_time": "2024-04-18T19:35:43.852681Z",
     "start_time": "2024-04-18T19:35:37.303943Z"
    }
   },
   "source": [
    "%load_ext autoreload\n",
    "%autoreload 2\n",
    "\n",
    "import torch\n",
    "import torch.nn as nn\n",
    "import torch.optim as optim\n",
    "import torchvision.transforms as transforms\n",
    "import torchvision.datasets as datasets\n",
    "from time import time\n",
    "from torchvision import models\n",
    "\n",
    "import sys\n",
    "IN_COLAB = 'google.colab' in sys.modules\n",
    "\n",
    "if IN_COLAB:\n",
    "  from google.colab import drive\n",
    "  drive.mount('/content/drive')\n",
    "  \n",
    "# Check if GPU is available, and if not, use the CPU\n",
    "device = torch.device(\"cuda\" if torch.cuda.is_available() else \"cpu\")\n",
    "\n",
    "# Below we are preprocessing data for CIFAR-10. We use an arbitrary batch size of 128.\n",
    "transform_train = transforms.Compose([\n",
    "        transforms.RandomResizedCrop(224),\n",
    "        transforms.RandomHorizontalFlip(),\n",
    "        transforms.ToTensor(),\n",
    "        transforms.Normalize([0.485, 0.456, 0.406], [0.229, 0.224, 0.225])\n",
    "    ])\n",
    "\n",
    "transform_test = transforms.Compose([\n",
    "        transforms.Resize(256),\n",
    "        transforms.CenterCrop(224),\n",
    "        transforms.ToTensor(),\n",
    "        transforms.Normalize([0.485, 0.456, 0.406], [0.229, 0.224, 0.225])\n",
    "    ])\n",
    "# Loading the CIFAR-10 dataset:\n",
    "train_dataset = datasets.CIFAR10(root='./data', train=True, download=False, transform=transform_train)\n",
    "test_dataset = datasets.CIFAR10(root='./data', train=False, download=False, transform=transform_test)\n",
    " \n",
    "# Dataloaders\n",
    "\n",
    "train_loader = torch.utils.data.DataLoader(train_dataset, batch_size=128, shuffle=True, num_workers=2)\n",
    "test_loader = torch.utils.data.DataLoader(test_dataset, batch_size=128, shuffle=False, num_workers=2)\n"
   ],
   "outputs": [
    {
     "name": "stdout",
     "output_type": "stream",
     "text": [
      "Files already downloaded and verified\n",
      "Files already downloaded and verified\n"
     ]
    }
   ],
   "execution_count": 1
  },
  {
   "cell_type": "markdown",
   "id": "33af03f44164e9de",
   "metadata": {},
   "source": [
    "### Define train and test function"
   ]
  },
  {
   "cell_type": "code",
   "id": "148ed29ebe462888",
   "metadata": {
    "ExecuteTime": {
     "end_time": "2024-04-19T15:18:06.810167Z",
     "start_time": "2024-04-19T15:18:06.717776Z"
    }
   },
   "source": [
    "def train(model, train_loader, epochs, learning_rate, device):\n",
    "    start = time()\n",
    "    criterion = nn.CrossEntropyLoss()\n",
    "    optimizer = optim.Adam(model.parameters(), lr=learning_rate)\n",
    "\n",
    "    model.train()\n",
    "\n",
    "    for epoch in range(epochs):\n",
    "        running_loss = 0.0\n",
    "        for inputs, labels in train_loader:\n",
    "            # inputs: A collection of batch_size images\n",
    "            # labels: A vector of dimensionality batch_size with integers denoting class of each image\n",
    "            inputs, labels = inputs.to(device), labels.to(device)\n",
    "\n",
    "            optimizer.zero_grad()\n",
    "            outputs = model(inputs)\n",
    "\n",
    "            # outputs: Output of the network for the collection of images. A tensor of dimensionality batch_size x num_classes\n",
    "            # labels: The actual labels of the images. Vector of dimensionality batch_size\n",
    "            loss = criterion(outputs, labels)\n",
    "            loss.backward()\n",
    "            optimizer.step()\n",
    "\n",
    "            running_loss += loss.item()\n",
    "\n",
    "        print(f\"Epoch {epoch+1}/{epochs}, Loss: {running_loss / len(train_loader)}\")\n",
    "    end = time()\n",
    "    runtime = end - start\n",
    "    print(f\"Training Time: {runtime:.3f}\")\n",
    "\n",
    "def test(model, test_loader, device):\n",
    "    model.to(device)\n",
    "    model.eval()\n",
    "\n",
    "    correct = 0\n",
    "    total = 0\n",
    "\n",
    "    with torch.no_grad():\n",
    "        for inputs, labels in test_loader:\n",
    "            inputs, labels = inputs.to(device), labels.to(device)\n",
    "\n",
    "            outputs = model(inputs)\n",
    "            _, predicted = torch.max(outputs.data, 1)\n",
    "\n",
    "            total += labels.size(0)\n",
    "            correct += (predicted == labels).sum().item()\n",
    "    \n",
    "    accuracy = 100 * correct / total\n",
    "    print(f\"Test Accuracy: {accuracy:.2f}%\")\n",
    "    return accuracy\n",
    " "
   ],
   "outputs": [],
   "execution_count": 3
  },
  {
   "cell_type": "markdown",
   "id": "bde8a78adfa4e19",
   "metadata": {},
   "source": [
    "### Define deeper neural networks to be used as teachers. \n",
    "Can have multiple teachers for comparison/experiments\n"
   ]
  },
  {
   "cell_type": "markdown",
   "id": "fc1d4aec7840d87",
   "metadata": {},
   "source": [
    "### Load resnet50 model with finetuned weight as another teacher"
   ]
  },
  {
   "cell_type": "code",
   "id": "4780ca82b559df31",
   "metadata": {
    "ExecuteTime": {
     "end_time": "2024-04-19T15:31:19.378284Z",
     "start_time": "2024-04-19T15:18:09.071023Z"
    }
   },
   "source": [
    "teacher_resnet50 = models.resnet50(weights=models.ResNet50_Weights.IMAGENET1K_V1)\n",
    "teacher_resnet50.fc = nn.Linear(teacher_resnet50.fc.in_features, 10)\n",
    "teacher_resnet50 = teacher_resnet50.to(device) \n",
    "# teacher_resnet50.load_state_dict(torch.load(\"/content/drive/MyDrive/Colab Notebooks/teacher_resnet50.pth\",map_location=device  )) \n",
    "teacher_resnet50.load_state_dict(torch.load(\"./trained_model/teacher_resnet50.pth\",map_location=device)) \n",
    "test_accuracy_teacher = test(teacher_resnet50, test_loader, device)\n",
    "\n"
   ],
   "outputs": [
    {
     "name": "stdout",
     "output_type": "stream",
     "text": [
      "Test Accuracy: 95.68%\n"
     ]
    }
   ],
   "execution_count": 4
  },
  {
   "cell_type": "markdown",
   "id": "bffe046810950e79",
   "metadata": {},
   "source": [
    "### Define student network\n"
   ]
  },
  {
   "cell_type": "code",
   "execution_count": 25,
   "id": "cef6b8911ea191b3",
   "metadata": {
    "ExecuteTime": {
     "end_time": "2024-04-18T02:19:28.292260Z",
     "start_time": "2024-04-18T02:19:28.269870Z"
    }
   },
   "outputs": [],
   "source": [
    "# Define the student model\n",
    " \n",
    "\n",
    "### Load resnet18 model with finetuned weight as a student\n",
    "resnet18 = models.resnet18(weights=models.ResNet18_Weights.IMAGENET1K_V1)\n",
    "resnet18.fc = nn.Linear(resnet18.fc.in_features, 10)\n",
    "resnet18 = resnet18.to(device)\n",
    "# teacher_resnet18.load_state_dict(torch.load(\"/content/drive/MyDrive/Colab Notebooks/teacher_resnet18.pth\",map_location=device  ))\n",
    "resnet18.load_state_dict(torch.load(\"./trained_model/teacher_resnet18.pth\", map_location=device))\n",
    "# test_accuracy_teacher = test(teacher_resnet50, test_loader, device)\n",
    "\n",
    "\n",
    "\n",
    "# Check if GPU is available, and if not, use the CPU\n",
    "device = torch.device(\"cuda\" if torch.cuda.is_available() else \"cpu\")\n",
    "\n",
    "# # Instantiate the model\n",
    "# studentNN = studentNN().to(device)\n",
    "\n",
    "test_accuracy_resnet18_b4_learning = test(resnet18, test_loader, device)"
   ]
  },
  {
   "cell_type": "markdown",
   "id": "c77126239715f624",
   "metadata": {},
   "source": [
    "### Define knowledge distillation function"
   ]
  },
  {
   "cell_type": "code",
   "execution_count": 4,
   "id": "439176069a736cfa",
   "metadata": {
    "ExecuteTime": {
     "end_time": "2024-04-18T02:19:32.186093Z",
     "start_time": "2024-04-18T02:19:32.165506Z"
    }
   },
   "outputs": [],
   "source": [
    "\n",
    "def train_knowledge_distillation_inter_layer(teacher, student, train_loader, epochs, learning_rate, T, soft_target_loss_weight, ce_loss_weight, device,intermediate_layer_index=6):\n",
    "    print('Knowledge distillation - intermediate layers training')\n",
    "    start = time()\n",
    "    ce_loss = nn.CrossEntropyLoss()\n",
    "    optimizer = optim.Adam(student.parameters(), lr=learning_rate)\n",
    "\n",
    "    teacher.eval()  # Teacher set to evaluation mode\n",
    "    student.train() # Student to train mode\n",
    "\n",
    "    for epoch in range(epochs):\n",
    "        running_loss = 0.0\n",
    "        for inputs, labels in train_loader:\n",
    "            inputs, labels = inputs.to(device), labels.to(device)\n",
    "\n",
    "            optimizer.zero_grad()\n",
    "\n",
    "            # Forward pass with the teacher model - do not save gradients here as we do not change the teacher's weights\n",
    "            with torch.no_grad():\n",
    "                teacher_logits = teacher(inputs)\n",
    "           \n",
    "            # Forward pass through teacher model\n",
    "            with torch.no_grad():\n",
    "                outputs_teacher = teacher(inputs)\n",
    "                teacher_intermediate_output = outputs_teacher[intermediate_layer_index]  # Get intermediate layer output\n",
    "            \n",
    "            # Forward pass through student model\n",
    "            outputs_student = student(inputs)\n",
    "            student_intermediate_output = outputs_student[intermediate_layer_index]  # Get intermediate layer output\n",
    "            \n",
    "            # Compute distillation loss\n",
    "            loss = nn.MSELoss()(teacher_intermediate_output, student_intermediate_output)  \n",
    "\n",
    "            loss.backward()\n",
    "            optimizer.step()\n",
    "\n",
    "            running_loss += loss.item()\n",
    "    \n",
    "        print(f\"Epoch {epoch+1}/{epochs}, Loss: {running_loss / len(train_loader)}\")\n",
    "    end = time()\n",
    "    runtime = end - start\n",
    "    print(f\"Training Time: {runtime:.3f}\")"
   ]
  },
  {
   "cell_type": "code",
   "execution_count": null,
   "id": "5b7cbc79347a2eed",
   "metadata": {},
   "outputs": [],
   "source": [
    " \n",
    "train_knowledge_distillation_inter_layer(teacher=teacher_resnet50, student=resnet18, \n",
    "                                 train_loader=train_loader, epochs=10, learning_rate=0.001, \n",
    "                                 T=2, soft_target_loss_weight=0.25, ce_loss_weight=0.75, device=device)\n",
    "\n",
    "test_accuracy_learning_student = test(resnet18, test_loader, device) \n",
    "\n",
    "# Compare the student test accuracy with and without the teacher, after distillation\n",
    "# Result shouldn't be stellar because teacher's prediction can't beat ground truth here\n",
    "print(f\"Teacher accuracy: {test_accuracy_teacher:.2f}%\")\n",
    "print(f\"resnet18 prior to transfer: {test_accuracy_resnet18_b4_learning:.2f}%\")\n",
    "print(f\"resnet18 accuracy after intermediate layer knowledge distillation: {resnet18:.2f}%\")"
   ]
  },
  {
   "cell_type": "markdown",
   "id": "20884ad6d26f749",
   "metadata": {},
   "source": [
    "### Save trained models - only run after training on Colab"
   ]
  },
  {
   "cell_type": "code",
   "execution_count": 61,
   "id": "15b8d4dff728654d",
   "metadata": {
    "ExecuteTime": {
     "end_time": "2024-04-10T03:31:47.424802Z",
     "start_time": "2024-04-10T03:31:47.395369Z"
    }
   },
   "outputs": [],
   "source": [
    "  \n",
    "torch.save(resnet18.state_dict(), \"/content/drive/MyDrive/Colab Notebooks/resnet18_after_intermediate_layer_transfer.pth\") # student after KD\n"
   ]
  }
 ],
 "metadata": {
  "kernelspec": {
   "display_name": "Python 3",
   "language": "python",
   "name": "python3"
  },
  "language_info": {
   "codemirror_mode": {
    "name": "ipython",
    "version": 3
   },
   "file_extension": ".py",
   "mimetype": "text/x-python",
   "name": "python",
   "nbconvert_exporter": "python",
   "pygments_lexer": "ipython3",
   "version": "3.11.7"
  }
 },
 "nbformat": 4,
 "nbformat_minor": 5
}
