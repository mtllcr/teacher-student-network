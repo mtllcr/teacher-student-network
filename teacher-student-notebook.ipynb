{
 "cells": [
  {
   "metadata": {},
   "cell_type": "markdown",
   "source": "# Teacher Student Network Research",
   "id": "ba682f49b1aaeb86"
  },
  {
   "metadata": {},
   "cell_type": "markdown",
   "source": [
    "##### Teacher Student Network Research\n",
    "Framework adapted from Official Pytorch Knowledge Distillation Tutorial\n",
    "\n",
    "Author\n",
    "Asad Amiruddin\n",
    "Harrison Maximillian Rush\n",
    "Huy N Ho"
   ],
   "id": "e740fcaf00eaf41b"
  },
  {
   "metadata": {},
   "cell_type": "markdown",
   "source": "### Import library, datasets, loaders",
   "id": "a92e4ff9cde85e16"
  },
  {
   "metadata": {
    "ExecuteTime": {
     "end_time": "2024-04-09T02:13:37.276789Z",
     "start_time": "2024-04-09T02:13:35.411003Z"
    }
   },
   "cell_type": "code",
   "source": [
    "\n",
    "import torch\n",
    "import torch.nn as nn\n",
    "import torch.optim as optim\n",
    "import torchvision.transforms as transforms\n",
    "import torchvision.datasets as datasets\n",
    "    \n",
    "# Check if GPU is available, and if not, use the CPU\n",
    "device = torch.device(\"cuda\" if torch.cuda.is_available() else \"cpu\")\n",
    "\n",
    "# Below we are preprocessing data for CIFAR-10. We use an arbitrary batch size of 128.\n",
    "transforms_cifar = transforms.Compose([\n",
    "    transforms.ToTensor(),\n",
    "    transforms.Normalize(mean=[0.485, 0.456, 0.406], std=[0.229, 0.224, 0.225]),])\n",
    "\n",
    "# Loading the CIFAR-10 dataset:\n",
    "train_dataset = datasets.CIFAR10(root='./data', train=True, download=True, transform=transforms_cifar)\n",
    "test_dataset = datasets.CIFAR10(root='./data', train=False, download=True, transform=transforms_cifar)\n",
    "\n",
    "# This section is for CPU users only who are interested in quick results. Use this option only if you’re interested in a\n",
    "# small scale experiment. Keep in mind the code should run fairly quickly using any GPU. Select only the first\n",
    "# num_images_to_keep images from the train/test dataset\n",
    "\n",
    "from torch.utils.data import Subset\n",
    "num_images_to_keep = 2000\n",
    "train_dataset = Subset(train_dataset, range(min(num_images_to_keep, 50_000)))\n",
    "test_dataset = Subset(test_dataset, range(min(num_images_to_keep, 10_000)))\n",
    "\n",
    "# Dataloaders\n",
    "\n",
    "train_loader = torch.utils.data.DataLoader(train_dataset, batch_size=128, shuffle=True, num_workers=2)\n",
    "test_loader = torch.utils.data.DataLoader(test_dataset, batch_size=128, shuffle=False, num_workers=2)\n"
   ],
   "id": "e00f96571c1c5a3d",
   "outputs": [
    {
     "name": "stdout",
     "output_type": "stream",
     "text": [
      "Files already downloaded and verified\n",
      "Files already downloaded and verified\n"
     ]
    }
   ],
   "execution_count": 7
  },
  {
   "metadata": {},
   "cell_type": "markdown",
   "source": [
    "### Define deeper neural network to be used as teacher. \n",
    "Team: Replace with your network of choice here"
   ],
   "id": "bde8a78adfa4e19"
  },
  {
   "metadata": {
    "ExecuteTime": {
     "end_time": "2024-04-09T02:13:37.291972Z",
     "start_time": "2024-04-09T02:13:37.279795Z"
    }
   },
   "cell_type": "code",
   "source": [
    "class DeepNN(nn.Module):\n",
    "    def __init__(self, num_classes=10):\n",
    "        super(DeepNN, self).__init__()\n",
    "        self.features = nn.Sequential(\n",
    "            nn.Conv2d(3, 128, kernel_size=3, padding=1),\n",
    "            nn.ReLU(),\n",
    "            nn.Conv2d(128, 64, kernel_size=3, padding=1),\n",
    "            nn.ReLU(),\n",
    "            nn.MaxPool2d(kernel_size=2, stride=2),\n",
    "            nn.Conv2d(64, 64, kernel_size=3, padding=1),\n",
    "            nn.ReLU(),\n",
    "            nn.Conv2d(64, 32, kernel_size=3, padding=1),\n",
    "            nn.ReLU(),\n",
    "            nn.MaxPool2d(kernel_size=2, stride=2),\n",
    "        )\n",
    "        self.classifier = nn.Sequential(\n",
    "            nn.Linear(2048, 512),\n",
    "            nn.ReLU(),\n",
    "            nn.Dropout(0.1),\n",
    "            nn.Linear(512, num_classes)\n",
    "        )\n",
    "\n",
    "    def forward(self, x):\n",
    "        x = self.features(x)\n",
    "        x = torch.flatten(x, 1)\n",
    "        x = self.classifier(x)\n",
    "        return x"
   ],
   "id": "4780ca82b559df31",
   "outputs": [],
   "execution_count": 8
  },
  {
   "metadata": {},
   "cell_type": "markdown",
   "source": [
    "### Define student network\n",
    "Replace with your network of choice here"
   ],
   "id": "bffe046810950e79"
  },
  {
   "metadata": {
    "ExecuteTime": {
     "end_time": "2024-04-09T02:13:37.306629Z",
     "start_time": "2024-04-09T02:13:37.294194Z"
    }
   },
   "cell_type": "code",
   "source": [
    "class LightNN(nn.Module):\n",
    "    def __init__(self, num_classes=10):\n",
    "        super(LightNN, self).__init__()\n",
    "        self.features = nn.Sequential(\n",
    "            nn.Conv2d(3, 16, kernel_size=3, padding=1),\n",
    "            nn.ReLU(),\n",
    "            nn.MaxPool2d(kernel_size=2, stride=2),\n",
    "            nn.Conv2d(16, 16, kernel_size=3, padding=1),\n",
    "            nn.ReLU(),\n",
    "            nn.MaxPool2d(kernel_size=2, stride=2),\n",
    "        )\n",
    "        self.classifier = nn.Sequential(\n",
    "            nn.Linear(1024, 256),\n",
    "            nn.ReLU(),\n",
    "            nn.Dropout(0.1),\n",
    "            nn.Linear(256, num_classes)\n",
    "        )\n",
    "\n",
    "    def forward(self, x):\n",
    "        x = self.features(x)\n",
    "        x = torch.flatten(x, 1)\n",
    "        x = self.classifier(x)\n",
    "        return x"
   ],
   "id": "cef6b8911ea191b3",
   "outputs": [],
   "execution_count": 9
  },
  {
   "metadata": {},
   "cell_type": "markdown",
   "source": "### Define train and test function",
   "id": "33af03f44164e9de"
  },
  {
   "metadata": {
    "ExecuteTime": {
     "end_time": "2024-04-09T02:13:37.321748Z",
     "start_time": "2024-04-09T02:13:37.309139Z"
    }
   },
   "cell_type": "code",
   "source": [
    "def train(model, train_loader, epochs, learning_rate, device):\n",
    "    criterion = nn.CrossEntropyLoss()\n",
    "    optimizer = optim.Adam(model.parameters(), lr=learning_rate)\n",
    "\n",
    "    model.train()\n",
    "\n",
    "    for epoch in range(epochs):\n",
    "        running_loss = 0.0\n",
    "        for inputs, labels in train_loader:\n",
    "            # inputs: A collection of batch_size images\n",
    "            # labels: A vector of dimensionality batch_size with integers denoting class of each image\n",
    "            inputs, labels = inputs.to(device), labels.to(device)\n",
    "\n",
    "            optimizer.zero_grad()\n",
    "            outputs = model(inputs)\n",
    "\n",
    "            # outputs: Output of the network for the collection of images. A tensor of dimensionality batch_size x num_classes\n",
    "            # labels: The actual labels of the images. Vector of dimensionality batch_size\n",
    "            loss = criterion(outputs, labels)\n",
    "            loss.backward()\n",
    "            optimizer.step()\n",
    "\n",
    "            running_loss += loss.item()\n",
    "\n",
    "        print(f\"Epoch {epoch+1}/{epochs}, Loss: {running_loss / len(train_loader)}\")\n",
    "\n",
    "def test(model, test_loader, device):\n",
    "    model.to(device)\n",
    "    model.eval()\n",
    "\n",
    "    correct = 0\n",
    "    total = 0\n",
    "\n",
    "    with torch.no_grad():\n",
    "        for inputs, labels in test_loader:\n",
    "            inputs, labels = inputs.to(device), labels.to(device)\n",
    "\n",
    "            outputs = model(inputs)\n",
    "            _, predicted = torch.max(outputs.data, 1)\n",
    "\n",
    "            total += labels.size(0)\n",
    "            correct += (predicted == labels).sum().item()\n",
    "\n",
    "    accuracy = 100 * correct / total\n",
    "    print(f\"Test Accuracy: {accuracy:.2f}%\")\n",
    "    return accuracy\n",
    "\n",
    "# Cross-entropy runs\n",
    "# For reproducibility, we need to set the torch manual seed. We train networks using different methods, so to compare\n",
    "# them fairly, it makes sense to initialize the networks with the same weights. Start by training the teacher network\n",
    "# using cross-entropy:"
   ],
   "id": "148ed29ebe462888",
   "outputs": [],
   "execution_count": 10
  },
  {
   "metadata": {},
   "cell_type": "markdown",
   "source": "### Define knowledge distillation function",
   "id": "c77126239715f624"
  },
  {
   "metadata": {
    "ExecuteTime": {
     "end_time": "2024-04-09T02:13:37.337318Z",
     "start_time": "2024-04-09T02:13:37.324457Z"
    }
   },
   "cell_type": "code",
   "source": [
    "\n",
    "def train_knowledge_distillation(teacher, student, train_loader, epochs, learning_rate, T, soft_target_loss_weight, ce_loss_weight, device):\n",
    "    ce_loss = nn.CrossEntropyLoss()\n",
    "    optimizer = optim.Adam(student.parameters(), lr=learning_rate)\n",
    "\n",
    "    teacher.eval()  # Teacher set to evaluation mode\n",
    "    student.train() # Student to train mode\n",
    "\n",
    "    for epoch in range(epochs):\n",
    "        running_loss = 0.0\n",
    "        for inputs, labels in train_loader:\n",
    "            inputs, labels = inputs.to(device), labels.to(device)\n",
    "\n",
    "            optimizer.zero_grad()\n",
    "\n",
    "            # Forward pass with the teacher model - do not save gradients here as we do not change the teacher's weights\n",
    "            with torch.no_grad():\n",
    "                teacher_logits = teacher(inputs)\n",
    "\n",
    "            # Forward pass with the student model\n",
    "            student_logits = student(inputs)\n",
    "\n",
    "            #Soften the student logits by applying softmax first and log() second\n",
    "            soft_targets = nn.functional.softmax(teacher_logits / T, dim=-1)\n",
    "            soft_prob = nn.functional.log_softmax(student_logits / T, dim=-1)\n",
    "\n",
    "            # Calculate the soft target loss. Scaled by T**2 as suggested by the authors of the paper \"Distilling the knowledge in a neural network\"\n",
    "            soft_targets_loss = torch.sum(soft_targets * (soft_targets.log() - soft_prob)) / soft_prob.size()[0] * (T**2)\n",
    "\n",
    "            # Calculate the true label loss\n",
    "            label_loss = ce_loss(student_logits, labels)\n",
    "\n",
    "            # Weighted sum of the two losses\n",
    "            loss = soft_target_loss_weight * soft_targets_loss + ce_loss_weight * label_loss\n",
    "\n",
    "            loss.backward()\n",
    "            optimizer.step()\n",
    "\n",
    "            running_loss += loss.item()\n",
    "\n",
    "        print(f\"Epoch {epoch+1}/{epochs}, Loss: {running_loss / len(train_loader)}\")"
   ],
   "id": "439176069a736cfa",
   "outputs": [],
   "execution_count": 11
  },
  {
   "metadata": {},
   "cell_type": "markdown",
   "source": "### Instantiate and train the teacher net",
   "id": "b3f2c6a7be1f493b"
  },
  {
   "metadata": {
    "ExecuteTime": {
     "end_time": "2024-04-09T02:16:15.199370Z",
     "start_time": "2024-04-09T02:13:37.341323Z"
    }
   },
   "cell_type": "code",
   "source": [
    " # For reproducibility, we need to set the torch manual seed.We train networks using different methods,\n",
    "# so to compare them fairly, it makes sense to initialize the networks with the same weights.\n",
    "# Start by training the teacher network using cross-entropy:\n",
    "torch.manual_seed(42)\n",
    "nn_deep = DeepNN(num_classes=10).to(device)\n",
    "train(nn_deep, train_loader, epochs=10, learning_rate=0.001, device=device)\n",
    "test_accuracy_deep = test(nn_deep, test_loader, device)"
   ],
   "id": "3b1299efc8a82d0f",
   "outputs": [
    {
     "name": "stdout",
     "output_type": "stream",
     "text": [
      "Epoch 1/10, Loss: 2.166854090988636\n",
      "Epoch 2/10, Loss: 1.829537756741047\n",
      "Epoch 3/10, Loss: 1.601097621023655\n",
      "Epoch 4/10, Loss: 1.4544854238629341\n",
      "Epoch 5/10, Loss: 1.3052820935845375\n",
      "Epoch 6/10, Loss: 1.1647540926933289\n",
      "Epoch 7/10, Loss: 1.029826171696186\n",
      "Epoch 8/10, Loss: 0.8672298975288868\n",
      "Epoch 9/10, Loss: 0.6838167496025562\n",
      "Epoch 10/10, Loss: 0.4749998636543751\n",
      "Test Accuracy: 44.60%\n"
     ]
    }
   ],
   "execution_count": 12
  },
  {
   "metadata": {},
   "cell_type": "markdown",
   "source": "### Instantiate the 2 identical student nets",
   "id": "6f9e65a166b4f447"
  },
  {
   "metadata": {
    "ExecuteTime": {
     "end_time": "2024-04-09T02:16:15.352672Z",
     "start_time": "2024-04-09T02:16:15.217146Z"
    }
   },
   "cell_type": "code",
   "source": [
    "\n",
    "# Instantiate the lightweight network:\n",
    "torch.manual_seed(42)\n",
    "nn_light = LightNN(num_classes=10).to(device)\n",
    "\n",
    "# We instantiate one more lightweight network model to compare their performances.\n",
    "# Back propagation is sensitive to weight initialization,\n",
    "# so we need to make sure these two networks have the exact same initialization.\n",
    "\n",
    "torch.manual_seed(42)\n",
    "new_nn_light = LightNN(num_classes=10).to(device)\n",
    "\n",
    "# To ensure we have created a copy of the first network, we inspect the norm of its first layer.\n",
    "# If it matches, then we are safe to conclude that the networks are indeed the same.\n",
    "\n",
    "# Print the norm of the first layer of the initial lightweight model\n",
    "print(\"Norm of 1st layer of nn_light:\", torch.norm(nn_light.features[0].weight).item())\n",
    "# Print the norm of the first layer of the new lightweight model\n",
    "print(\"Norm of 1st layer of new_nn_light:\", torch.norm(new_nn_light.features[0].weight).item())\n",
    "\n",
    "# Print the total number of parameters in each model:\n",
    "total_params_deep = \"{:,}\".format(sum(p.numel() for p in nn_deep.parameters()))\n",
    "print(f\"DeepNN parameters: {total_params_deep}\")\n",
    "total_params_light = \"{:,}\".format(sum(p.numel() for p in nn_light.parameters()))\n",
    "print(f\"LightNN parameters: {total_params_light}\")\n",
    "\n"
   ],
   "id": "c83345791928e709",
   "outputs": [
    {
     "name": "stdout",
     "output_type": "stream",
     "text": [
      "Norm of 1st layer of nn_light: 2.327361822128296\n",
      "Norm of 1st layer of new_nn_light: 2.327361822128296\n",
      "DeepNN parameters: 1,186,986\n",
      "LightNN parameters: 267,738\n"
     ]
    }
   ],
   "execution_count": 13
  },
  {
   "metadata": {},
   "cell_type": "markdown",
   "source": "### Train the student and compare to the one without teacher",
   "id": "fdf4aa2903489743"
  },
  {
   "metadata": {
    "ExecuteTime": {
     "end_time": "2024-04-09T02:19:57.066883Z",
     "start_time": "2024-04-09T02:16:15.355671Z"
    }
   },
   "cell_type": "code",
   "source": [
    "train(nn_light, train_loader, epochs=10, learning_rate=0.001, device=device)\n",
    "test_accuracy_light_ce = test(nn_light, test_loader, device)\n",
    "\n",
    "print(f\"Teacher accuracy: {test_accuracy_deep:.2f}%\")\n",
    "print(f\"Student accuracy: {test_accuracy_light_ce:.2f}%\")\n",
    "\n",
    "# Apply ``train_knowledge_distillation`` with a temperature of 2. Arbitrarily set the weights to 0.75 for CE and 0.25 for distillation loss.\n",
    "train_knowledge_distillation(teacher=nn_deep, student=new_nn_light, train_loader=train_loader, epochs=10, learning_rate=0.001, T=2, soft_target_loss_weight=0.25, ce_loss_weight=0.75, device=device)\n",
    "test_accuracy_light_ce_and_kd = test(new_nn_light, test_loader, device)\n",
    "\n",
    "# Compare the student test accuracy with and without the teacher, after distillation\n",
    "print(f\"Teacher accuracy: {test_accuracy_deep:.2f}%\")\n",
    "print(f\"Student accuracy without teacher: {test_accuracy_light_ce:.2f}%\")\n",
    "print(f\"Student accuracy with CE + KD: {test_accuracy_light_ce_and_kd:.2f}%\")"
   ],
   "id": "aed6645b3104a871",
   "outputs": [
    {
     "name": "stdout",
     "output_type": "stream",
     "text": [
      "Epoch 1/10, Loss: 2.178149625658989\n",
      "Epoch 2/10, Loss: 1.8785179033875465\n",
      "Epoch 3/10, Loss: 1.7081888616085052\n",
      "Epoch 4/10, Loss: 1.5619092732667923\n",
      "Epoch 5/10, Loss: 1.4377127960324287\n",
      "Epoch 6/10, Loss: 1.3511024117469788\n",
      "Epoch 7/10, Loss: 1.2728455290198326\n",
      "Epoch 8/10, Loss: 1.2071721628308296\n",
      "Epoch 9/10, Loss: 1.1415085345506668\n",
      "Epoch 10/10, Loss: 1.0959972441196442\n",
      "Test Accuracy: 46.60%\n",
      "Teacher accuracy: 44.60%\n",
      "Student accuracy: 46.60%\n",
      "Epoch 1/10, Loss: 2.7155041694641113\n",
      "Epoch 2/10, Loss: 2.3136680275201797\n",
      "Epoch 3/10, Loss: 2.091450184583664\n",
      "Epoch 4/10, Loss: 1.9130545407533646\n",
      "Epoch 5/10, Loss: 1.7822917848825455\n",
      "Epoch 6/10, Loss: 1.657370813190937\n",
      "Epoch 7/10, Loss: 1.539443165063858\n",
      "Epoch 8/10, Loss: 1.4363653138279915\n",
      "Epoch 9/10, Loss: 1.3618108704686165\n",
      "Epoch 10/10, Loss: 1.313474789261818\n",
      "Test Accuracy: 44.90%\n",
      "Teacher accuracy: 44.60%\n",
      "Student accuracy without teacher: 46.60%\n",
      "Student accuracy with CE + KD: 44.90%\n"
     ]
    }
   ],
   "execution_count": 14
  },
  {
   "metadata": {},
   "cell_type": "markdown",
   "source": "",
   "id": "2c5d41fee7ce1f98"
  },
  {
   "metadata": {},
   "cell_type": "markdown",
   "source": "### Add a section to train the student on unlabelled data",
   "id": "6e6bf620d3db47ba"
  }
 ],
 "metadata": {
  "kernelspec": {
   "display_name": "Python 3",
   "language": "python",
   "name": "python3"
  },
  "language_info": {
   "codemirror_mode": {
    "name": "ipython",
    "version": 2
   },
   "file_extension": ".py",
   "mimetype": "text/x-python",
   "name": "python",
   "nbconvert_exporter": "python",
   "pygments_lexer": "ipython2",
   "version": "2.7.6"
  }
 },
 "nbformat": 4,
 "nbformat_minor": 5
}
