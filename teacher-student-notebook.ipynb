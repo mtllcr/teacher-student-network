{
 "cells": [
  {
   "metadata": {},
   "cell_type": "markdown",
   "source": "# Teacher Student Network Research",
   "id": "ba682f49b1aaeb86"
  },
  {
   "metadata": {},
   "cell_type": "markdown",
   "source": [
    "##### Teacher Student Network Research\n",
    "Framework adapted from Official Pytorch Knowledge Distillation Tutorial\n",
    "\n",
    "Author: \n",
    "Asad Amiruddin, \n",
    "Harrison Maximillian Rush, \n",
    "Huy N Ho"
   ],
   "id": "e740fcaf00eaf41b"
  },
  {
   "metadata": {},
   "cell_type": "markdown",
   "source": "### Import library, datasets, loaders",
   "id": "a92e4ff9cde85e16"
  },
  {
   "metadata": {
    "ExecuteTime": {
     "end_time": "2024-04-10T02:13:23.780023Z",
     "start_time": "2024-04-10T02:13:21.676068Z"
    }
   },
   "cell_type": "code",
   "source": [
    "\n",
    "import torch\n",
    "import torch.nn as nn\n",
    "import torch.optim as optim\n",
    "import torchvision.transforms as transforms\n",
    "import torchvision.datasets as datasets\n",
    "    \n",
    "# Check if GPU is available, and if not, use the CPU\n",
    "device = torch.device(\"cuda\" if torch.cuda.is_available() else \"cpu\")\n",
    "\n",
    "# Below we are preprocessing data for CIFAR-10. We use an arbitrary batch size of 128.\n",
    "transforms_cifar = transforms.Compose([\n",
    "    transforms.ToTensor(),\n",
    "    transforms.Normalize(mean=[0.485, 0.456, 0.406], std=[0.229, 0.224, 0.225]),])\n",
    "\n",
    "# Loading the CIFAR-10 dataset:\n",
    "train_dataset = datasets.CIFAR10(root='./data', train=True, download=True, transform=transforms_cifar)\n",
    "test_dataset = datasets.CIFAR10(root='./data', train=False, download=True, transform=transforms_cifar)\n",
    "\n",
    "# This section is for CPU users only who are interested in quick results. Use this option only if you’re interested in a\n",
    "# small scale experiment. Keep in mind the code should run fairly quickly using any GPU. Select only the first\n",
    "# num_images_to_keep images from the train/test dataset\n",
    "\n",
    "# from torch.utils.data import Subset\n",
    "# num_images_to_keep = 2000\n",
    "# train_dataset = Subset(train_dataset, range(min(num_images_to_keep, 50_000)))\n",
    "# test_dataset = Subset(test_dataset, range(min(num_images_to_keep, 10_000)))\n",
    "\n",
    "# Dataloaders\n",
    "\n",
    "train_loader = torch.utils.data.DataLoader(train_dataset, batch_size=128, shuffle=True, num_workers=2)\n",
    "test_loader = torch.utils.data.DataLoader(test_dataset, batch_size=128, shuffle=False, num_workers=2)\n"
   ],
   "id": "e00f96571c1c5a3d",
   "outputs": [
    {
     "name": "stdout",
     "output_type": "stream",
     "text": [
      "Files already downloaded and verified\n",
      "Files already downloaded and verified\n"
     ]
    }
   ],
   "execution_count": 35
  },
  {
   "metadata": {},
   "cell_type": "markdown",
   "source": [
    "### Define deeper neural network to be used as teacher. \n",
    "Team: Replace with your network of choice here"
   ],
   "id": "bde8a78adfa4e19"
  },
  {
   "metadata": {
    "ExecuteTime": {
     "end_time": "2024-04-10T02:13:23.795154Z",
     "start_time": "2024-04-10T02:13:23.785924Z"
    }
   },
   "cell_type": "code",
   "source": [
    "class teacherNN(nn.Module):\n",
    "    def __init__(self, num_classes=10):\n",
    "        super(DeepNN, self).__init__()\n",
    "        self.features = nn.Sequential(\n",
    "            nn.Conv2d(3, 128, kernel_size=3, padding=1),\n",
    "            nn.ReLU(),\n",
    "            nn.Conv2d(128, 64, kernel_size=3, padding=1),\n",
    "            nn.ReLU(),\n",
    "            nn.MaxPool2d(kernel_size=2, stride=2),\n",
    "            nn.Conv2d(64, 64, kernel_size=3, padding=1),\n",
    "            nn.ReLU(),\n",
    "            nn.Conv2d(64, 32, kernel_size=3, padding=1),\n",
    "            nn.ReLU(),\n",
    "            nn.MaxPool2d(kernel_size=2, stride=2),\n",
    "        )\n",
    "        self.classifier = nn.Sequential(\n",
    "            nn.Linear(2048, 512),\n",
    "            nn.ReLU(),\n",
    "            nn.Dropout(0.1),\n",
    "            nn.Linear(512, num_classes)\n",
    "        )\n",
    "\n",
    "    def forward(self, x):\n",
    "        x = self.features(x)\n",
    "        x = torch.flatten(x, 1)\n",
    "        x = self.classifier(x)\n",
    "        return x"
   ],
   "id": "4780ca82b559df31",
   "outputs": [],
   "execution_count": 36
  },
  {
   "metadata": {},
   "cell_type": "markdown",
   "source": [
    "### Define student network\n",
    "Replace with your network of choice here"
   ],
   "id": "bffe046810950e79"
  },
  {
   "metadata": {
    "ExecuteTime": {
     "end_time": "2024-04-10T02:13:23.826900Z",
     "start_time": "2024-04-10T02:13:23.797387Z"
    }
   },
   "cell_type": "code",
   "source": [
    "class studentNN(nn.Module):\n",
    "    def __init__(self, num_classes=10):\n",
    "        super(LightNN, self).__init__()\n",
    "        self.features = nn.Sequential(\n",
    "            nn.Conv2d(3, 16, kernel_size=3, padding=1),\n",
    "            nn.ReLU(),\n",
    "            nn.MaxPool2d(kernel_size=2, stride=2),\n",
    "            nn.Conv2d(16, 16, kernel_size=3, padding=1),\n",
    "            nn.ReLU(),\n",
    "            nn.MaxPool2d(kernel_size=2, stride=2),\n",
    "        )\n",
    "        self.classifier = nn.Sequential(\n",
    "            nn.Linear(1024, 256),\n",
    "            nn.ReLU(),\n",
    "            nn.Dropout(0.1),\n",
    "            nn.Linear(256, num_classes)\n",
    "        )\n",
    "\n",
    "    def forward(self, x):\n",
    "        x = self.features(x)\n",
    "        x = torch.flatten(x, 1)\n",
    "        x = self.classifier(x)\n",
    "        return x"
   ],
   "id": "cef6b8911ea191b3",
   "outputs": [],
   "execution_count": 37
  },
  {
   "metadata": {},
   "cell_type": "markdown",
   "source": "### Define train and test function",
   "id": "33af03f44164e9de"
  },
  {
   "metadata": {
    "ExecuteTime": {
     "end_time": "2024-04-10T02:13:23.843155Z",
     "start_time": "2024-04-10T02:13:23.830676Z"
    }
   },
   "cell_type": "code",
   "source": [
    "def train(model, train_loader, epochs, learning_rate, device):\n",
    "    criterion = nn.CrossEntropyLoss()\n",
    "    optimizer = optim.Adam(model.parameters(), lr=learning_rate)\n",
    "\n",
    "    model.train()\n",
    "\n",
    "    for epoch in range(epochs):\n",
    "        running_loss = 0.0\n",
    "        for inputs, labels in train_loader:\n",
    "            # inputs: A collection of batch_size images\n",
    "            # labels: A vector of dimensionality batch_size with integers denoting class of each image\n",
    "            inputs, labels = inputs.to(device), labels.to(device)\n",
    "\n",
    "            optimizer.zero_grad()\n",
    "            outputs = model(inputs)\n",
    "\n",
    "            # outputs: Output of the network for the collection of images. A tensor of dimensionality batch_size x num_classes\n",
    "            # labels: The actual labels of the images. Vector of dimensionality batch_size\n",
    "            loss = criterion(outputs, labels)\n",
    "            loss.backward()\n",
    "            optimizer.step()\n",
    "\n",
    "            running_loss += loss.item()\n",
    "\n",
    "        print(f\"Epoch {epoch+1}/{epochs}, Loss: {running_loss / len(train_loader)}\")\n",
    "\n",
    "def test(model, test_loader, device):\n",
    "    model.to(device)\n",
    "    model.eval()\n",
    "\n",
    "    correct = 0\n",
    "    total = 0\n",
    "\n",
    "    with torch.no_grad():\n",
    "        for inputs, labels in test_loader:\n",
    "            inputs, labels = inputs.to(device), labels.to(device)\n",
    "\n",
    "            outputs = model(inputs)\n",
    "            _, predicted = torch.max(outputs.data, 1)\n",
    "\n",
    "            total += labels.size(0)\n",
    "            correct += (predicted == labels).sum().item()\n",
    "\n",
    "    accuracy = 100 * correct / total\n",
    "    print(f\"Test Accuracy: {accuracy:.2f}%\")\n",
    "    return accuracy\n",
    "\n",
    "# Cross-entropy runs\n",
    "# For reproducibility, we need to set the torch manual seed. We train networks using different methods, so to compare\n",
    "# them fairly, it makes sense to initialize the networks with the same weights. Start by training the teacher network\n",
    "# using cross-entropy:"
   ],
   "id": "148ed29ebe462888",
   "outputs": [],
   "execution_count": 38
  },
  {
   "metadata": {},
   "cell_type": "markdown",
   "source": "### Define knowledge distillation function",
   "id": "c77126239715f624"
  },
  {
   "metadata": {
    "ExecuteTime": {
     "end_time": "2024-04-10T02:13:23.859120Z",
     "start_time": "2024-04-10T02:13:23.847562Z"
    }
   },
   "cell_type": "code",
   "source": [
    "\n",
    "def train_knowledge_distillation(teacher, student, train_loader, epochs, learning_rate, T, soft_target_loss_weight, ce_loss_weight, device):\n",
    "    print('Knowledge distillation training')\n",
    "    ce_loss = nn.CrossEntropyLoss()\n",
    "    optimizer = optim.Adam(student.parameters(), lr=learning_rate)\n",
    "\n",
    "    teacher.eval()  # Teacher set to evaluation mode\n",
    "    student.train() # Student to train mode\n",
    "\n",
    "    for epoch in range(epochs):\n",
    "        running_loss = 0.0\n",
    "        for inputs, labels in train_loader:\n",
    "            inputs, labels = inputs.to(device), labels.to(device)\n",
    "\n",
    "            optimizer.zero_grad()\n",
    "\n",
    "            # Forward pass with the teacher model - do not save gradients here as we do not change the teacher's weights\n",
    "            with torch.no_grad():\n",
    "                teacher_logits = teacher(inputs)\n",
    "\n",
    "            # Forward pass with the student model\n",
    "            student_logits = student(inputs)\n",
    "\n",
    "            #Soften the student logits by applying softmax first and log() second\n",
    "            soft_targets = nn.functional.softmax(teacher_logits / T, dim=-1)\n",
    "            soft_prob = nn.functional.log_softmax(student_logits / T, dim=-1)\n",
    "\n",
    "            # Calculate the soft target loss. Scaled by T**2 as suggested by the authors of the paper \"Distilling the knowledge in a neural network\"\n",
    "            soft_targets_loss = torch.sum(soft_targets * (soft_targets.log() - soft_prob)) / soft_prob.size()[0] * (T**2)\n",
    "\n",
    "            # Calculate the true label loss\n",
    "            label_loss = ce_loss(student_logits, labels)\n",
    "\n",
    "            # Weighted sum of the two losses\n",
    "            loss = soft_target_loss_weight * soft_targets_loss + ce_loss_weight * label_loss\n",
    "\n",
    "            loss.backward()\n",
    "            optimizer.step()\n",
    "\n",
    "            running_loss += loss.item()\n",
    "\n",
    "        print(f\"Epoch {epoch+1}/{epochs}, Loss: {running_loss / len(train_loader)}\")"
   ],
   "id": "439176069a736cfa",
   "outputs": [],
   "execution_count": 39
  },
  {
   "metadata": {},
   "cell_type": "markdown",
   "source": "### Instantiate and train the teacher net",
   "id": "b3f2c6a7be1f493b"
  },
  {
   "metadata": {
    "ExecuteTime": {
     "end_time": "2024-04-10T02:13:47.237449Z",
     "start_time": "2024-04-10T02:13:23.861556Z"
    }
   },
   "cell_type": "code",
   "source": [
    " # For reproducibility, we need to set the torch manual seed.We train networks using different methods,\n",
    "# so to compare them fairly, it makes sense to initialize the networks with the same weights.\n",
    "# Start by training the teacher network using cross-entropy:\n",
    "torch.manual_seed(42)\n",
    "teacher = teacherNN(num_classes=10).to(device)\n",
    "\n",
    "# IMPORTANT: To load the pretrained model from either Google Drive/Local Drive instead of training it, set one of the booleans to True. \n",
    "# Make sure the .pth file exists in the respective directory\n",
    "# .pth files are created further down after all training are completed \n",
    "\n",
    "load_teacher_model_from_Gdrive = False   # need to be on Colab \n",
    "load_teacher_model_from_local_hard_drive = False   \n",
    "\n",
    "if load_teacher_model_from_Gdrive:\n",
    "    from google.colab import drive\n",
    "    drive.mount('/content/drive')  \n",
    "    teacher.load_state_dict(torch.load(\"/content/drive/MyDrive/Colab Notebooks/teacher_model.pth\"  )) \n",
    "elif load_teacher_model_from_local_hard_drive : \n",
    "    teacher.load_state_dict(torch.load(\"./trained_model/teacher_model.pth\",map_location=device))    \n",
    "else:\n",
    "    train(teacher, train_loader, epochs=10, learning_rate=0.001, device=device)\n",
    "    \n",
    "test_accuracy_deep = test(teacher, test_loader, device)"
   ],
   "id": "3b1299efc8a82d0f",
   "outputs": [
    {
     "name": "stdout",
     "output_type": "stream",
     "text": [
      "Test Accuracy: 74.62%\n"
     ]
    }
   ],
   "execution_count": 40
  },
  {
   "metadata": {},
   "cell_type": "markdown",
   "source": "### Instantiate the 2 identical student nets",
   "id": "6f9e65a166b4f447"
  },
  {
   "metadata": {
    "ExecuteTime": {
     "end_time": "2024-04-10T02:13:47.283283Z",
     "start_time": "2024-04-10T02:13:47.239895Z"
    }
   },
   "cell_type": "code",
   "source": [
    "\n",
    "# Instantiate the lightweight network:\n",
    "# We instantiate one more lightweight network model to compare their performances.\n",
    "# Back propagation is sensitive to weight initialization,\n",
    "# so we need to make sure these two networks have the exact same initialization.\n",
    "torch.manual_seed(42)\n",
    "learning_student = studentNN(num_classes=10).to(device)\n",
    "\n",
    "torch.manual_seed(42)\n",
    "non_learning_student = studentNN(num_classes=10).to(device)\n",
    "\n",
    "# To ensure we have created a copy of the first network, we inspect the norm of its first layer.\n",
    "# If it matches, then we are safe to conclude that the networks are indeed the same.\n",
    "\n",
    "# Print the norm of the first layer of the non learning student model\n",
    "print(\"Norm of 1st layer of nn_light:\", torch.norm(non_learning_student.features[0].weight).item())\n",
    "# Print the norm of the first layer of the learning student model\n",
    "print(\"Norm of 1st layer of new_nn_light:\", torch.norm(learning_student.features[0].weight).item())\n",
    "\n",
    "# Print the total number of parameters in each model:\n",
    "total_params_deep = \"{:,}\".format(sum(p.numel() for p in teacher.parameters()))\n",
    "print(f\"DeepNN parameters: {total_params_deep}\")\n",
    "total_params_light = \"{:,}\".format(sum(p.numel() for p in non_learning_student.parameters()))\n",
    "print(f\"non_learning_student parameters: {total_params_light}\")\n",
    "total_params_light = \"{:,}\".format(sum(p.numel() for p in learning_student.parameters()))\n",
    "print(f\"learning_student parameters: {total_params_light}\")\n",
    "\n"
   ],
   "id": "c83345791928e709",
   "outputs": [
    {
     "name": "stdout",
     "output_type": "stream",
     "text": [
      "Norm of 1st layer of nn_light: 2.327361822128296\n",
      "Norm of 1st layer of new_nn_light: 2.327361822128296\n",
      "DeepNN parameters: 1,186,986\n",
      "LightNN parameters: 267,738\n"
     ]
    }
   ],
   "execution_count": 41
  },
  {
   "metadata": {},
   "cell_type": "markdown",
   "source": "### Train the student and compare to the one without teacher",
   "id": "fdf4aa2903489743"
  },
  {
   "metadata": {
    "ExecuteTime": {
     "end_time": "2024-04-10T02:47:07.314513Z",
     "start_time": "2024-04-10T02:34:38.598343Z"
    }
   },
   "cell_type": "code",
   "source": [
    "\n",
    "# IMPORTANT: To load the pretrained model from either Google Drive/Local Drive instead of training it, set one of the booleans to True. \n",
    "# Make sure the .pth file exists in the respective directory\n",
    "# .pth files are created further down after all training are completed \n",
    "\n",
    "load_non_learning_student_model_from_Gdrive = False   # need to be on Colab \n",
    "load_non_learning_student_model_from_local_hard_drive = False   \n",
    "\n",
    "if load_non_learning_student_model_from_Gdrive:\n",
    "    from google.colab import drive\n",
    "    drive.mount('/content/drive')  \n",
    "    non_learning_student.load_state_dict(torch.load(\"/content/drive/MyDrive/Colab Notebooks/non_learning_student_model.pth\"  )) \n",
    "elif load_non_learning_student_model_from_local_hard_drive : \n",
    "    non_learning_student.load_state_dict(torch.load(\"./trained_model/non_learning_student_model.pth\",map_location=device))    \n",
    "else:\n",
    "    train(non_learning_student, train_loader, epochs=10, learning_rate=0.001, device=device)\n",
    " \n",
    "test_accuracy_light_ce = test(non_learning_student, test_loader, device)\n",
    "\n",
    "print(f\"Teacher accuracy: {test_accuracy_deep:.2f}%\")\n",
    "print(f\"Student accuracy: {test_accuracy_light_ce:.2f}%\")\n",
    "\n",
    "\n",
    "load_learning_student_model_from_Gdrive = False   # need to be on Colab \n",
    "load_learning_student_model_from_local_hard_drive = False   \n",
    "\n",
    "if load_learning_student_model_from_Gdrive:\n",
    "    from google.colab import drive\n",
    "    drive.mount('/content/drive')  \n",
    "    learning_student.load_state_dict(torch.load(\"/content/drive/MyDrive/Colab Notebooks/learning_student_model.pth\"  )) \n",
    "elif load_learning_student_model_from_local_hard_drive : \n",
    "    learning_student.load_state_dict(torch.load(\"./trained_model/learning_student_model.pth\",map_location=device))    \n",
    "else:\n",
    "    # Apply ``train_knowledge_distillation`` with a temperature of 2. Arbitrarily set the weights to 0.75 for CE and 0.25 for distillation loss.\n",
    "    train_knowledge_distillation(teacher=teacher, student=learning_student, train_loader=train_loader, epochs=10, learning_rate=0.001, T=2, soft_target_loss_weight=0.25, ce_loss_weight=0.75, device=device)\n",
    "\n",
    "test_accuracy_light_ce_and_kd = test(learning_student, test_loader, device)\n",
    "\n",
    "# Compare the student test accuracy with and without the teacher, after distillation\n",
    "print(f\"Teacher accuracy: {test_accuracy_deep:.2f}%\")\n",
    "print(f\"Student accuracy without teacher: {test_accuracy_light_ce:.2f}%\")\n",
    "print(f\"Student accuracy with CE + KD: {test_accuracy_light_ce_and_kd:.2f}%\")"
   ],
   "id": "aed6645b3104a871",
   "outputs": [
    {
     "name": "stdout",
     "output_type": "stream",
     "text": [
      "Test Accuracy: 70.17%\n",
      "Teacher accuracy: 74.62%\n",
      "Student accuracy: 70.17%\n",
      "Epoch 1/10, Loss: 1.5488545745230087\n",
      "Epoch 2/10, Loss: 1.4168821152518778\n",
      "Epoch 3/10, Loss: 1.2966274959047128\n",
      "Epoch 4/10, Loss: 1.1999755616078291\n",
      "Epoch 5/10, Loss: 1.1120058386527059\n",
      "Epoch 6/10, Loss: 1.0300767190011262\n",
      "Epoch 7/10, Loss: 0.962436990054977\n",
      "Epoch 8/10, Loss: 0.8863122332126588\n",
      "Epoch 9/10, Loss: 0.828292216943658\n",
      "Epoch 10/10, Loss: 0.7688157955551391\n",
      "Test Accuracy: 70.71%\n",
      "Teacher accuracy: 74.62%\n",
      "Student accuracy without teacher: 70.17%\n",
      "Student accuracy with CE + KD: 70.71%\n"
     ]
    }
   ],
   "execution_count": 44
  },
  {
   "metadata": {},
   "cell_type": "markdown",
   "source": "### Save trained models - only run after training on Colab",
   "id": "20884ad6d26f749"
  },
  {
   "metadata": {
    "ExecuteTime": {
     "end_time": "2024-04-10T03:08:56.380071Z",
     "start_time": "2024-04-10T03:08:56.258896Z"
    }
   },
   "cell_type": "code",
   "source": [
    "# IMPORTANT\n",
    "# change the boolean below to True to save the trained model .pth file into your Google Drive\n",
    "# only work if executing on Google Colab\n",
    "save_model_to_Gdrive = True # need to be on Colab \n",
    "save_model_to_local_drive = False \n",
    "if save_model_to_Gdrive:\n",
    "    from google.colab import drive\n",
    "    drive.mount('/content/drive')\n",
    "    torch.save(teacher.state_dict(), \"/content/drive/MyDrive/Colab Notebooks/teacher.pth\")\n",
    "    torch.save(non_learning_student.state_dict(), \"/content/drive/MyDrive/Colab Notebooks/non_learning_student.pth\") # non-learning student\n",
    "    torch.save(learning_student.state_dict(), \"/content/drive/MyDrive/Colab Notebooks/learning_student.pth\") # student after KD\n",
    "elif save_model_to_local_drive:\n",
    "    torch.save(teacher.state_dict(), \"./trained_model/teacher.pth\")\n",
    "    torch.save(non_learning_student.state_dict(), \"./trained_model/non_learning_student.pth\") # non-learning student\n",
    "    torch.save(learning_student.state_dict(), \"./trained_model/learning_student.pth\") # student after KD\n",
    "    \n",
    "    "
   ],
   "id": "15b8d4dff728654d",
   "outputs": [
    {
     "ename": "NameError",
     "evalue": "name 'teacher' is not defined",
     "output_type": "error",
     "traceback": [
      "\u001B[1;31m---------------------------------------------------------------------------\u001B[0m",
      "\u001B[1;31mNameError\u001B[0m                                 Traceback (most recent call last)",
      "Cell \u001B[1;32mIn[48], line 13\u001B[0m\n\u001B[0;32m     11\u001B[0m     torch\u001B[38;5;241m.\u001B[39msave(learning_student\u001B[38;5;241m.\u001B[39mstate_dict(), \u001B[38;5;124m\"\u001B[39m\u001B[38;5;124m/content/drive/MyDrive/Colab Notebooks/learning_student.pth\u001B[39m\u001B[38;5;124m\"\u001B[39m) \u001B[38;5;66;03m# student after KD\u001B[39;00m\n\u001B[0;32m     12\u001B[0m \u001B[38;5;28;01melif\u001B[39;00m save_model_to_local_drive:\n\u001B[1;32m---> 13\u001B[0m     torch\u001B[38;5;241m.\u001B[39msave(\u001B[43mteacher\u001B[49m\u001B[38;5;241m.\u001B[39mstate_dict(), \u001B[38;5;124m\"\u001B[39m\u001B[38;5;124m./trained_model/teacher.pth\u001B[39m\u001B[38;5;124m\"\u001B[39m)\n\u001B[0;32m     14\u001B[0m     torch\u001B[38;5;241m.\u001B[39msave(non_learning_student\u001B[38;5;241m.\u001B[39mstate_dict(), \u001B[38;5;124m\"\u001B[39m\u001B[38;5;124m./trained_model/non_learning_student.pth\u001B[39m\u001B[38;5;124m\"\u001B[39m) \u001B[38;5;66;03m# non-learning student\u001B[39;00m\n\u001B[0;32m     15\u001B[0m     torch\u001B[38;5;241m.\u001B[39msave(learning_student\u001B[38;5;241m.\u001B[39mstate_dict(), \u001B[38;5;124m\"\u001B[39m\u001B[38;5;124m./trained_model/learning_student.pth\u001B[39m\u001B[38;5;124m\"\u001B[39m) \u001B[38;5;66;03m# student after KD\u001B[39;00m\n",
      "\u001B[1;31mNameError\u001B[0m: name 'teacher' is not defined"
     ]
    }
   ],
   "execution_count": 48
  },
  {
   "metadata": {},
   "cell_type": "markdown",
   "source": "### Add a section to train the student on unlabelled data",
   "id": "6e6bf620d3db47ba"
  }
 ],
 "metadata": {
  "kernelspec": {
   "display_name": "Python 3",
   "language": "python",
   "name": "python3"
  },
  "language_info": {
   "codemirror_mode": {
    "name": "ipython",
    "version": 2
   },
   "file_extension": ".py",
   "mimetype": "text/x-python",
   "name": "python",
   "nbconvert_exporter": "python",
   "pygments_lexer": "ipython2",
   "version": "2.7.6"
  }
 },
 "nbformat": 4,
 "nbformat_minor": 5
}
