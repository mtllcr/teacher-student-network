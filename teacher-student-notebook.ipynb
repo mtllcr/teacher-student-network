{
 "cells": [
  {
   "metadata": {},
   "cell_type": "markdown",
   "source": "# Teacher Student Network Research",
   "id": "ba682f49b1aaeb86"
  },
  {
   "metadata": {},
   "cell_type": "markdown",
   "source": [
    "##### Teacher Student Network Research\n",
    "Framework adapted from Official Pytorch Knowledge Distillation Tutorial\n",
    "\n",
    "Author: \n",
    "Asad Amiruddin, \n",
    "Harrison Maximillian Rush, \n",
    "Huy N Ho"
   ],
   "id": "e740fcaf00eaf41b"
  },
  {
   "metadata": {},
   "cell_type": "markdown",
   "source": "### Import library, datasets, loaders",
   "id": "a92e4ff9cde85e16"
  },
  {
   "metadata": {
    "ExecuteTime": {
     "end_time": "2024-04-10T02:13:23.780023Z",
     "start_time": "2024-04-10T02:13:21.676068Z"
    }
   },
   "cell_type": "code",
   "source": [
    "\n",
    "import torch\n",
    "import torch.nn as nn\n",
    "import torch.optim as optim\n",
    "import torchvision.transforms as transforms\n",
    "import torchvision.datasets as datasets\n",
    "    \n",
    "# Check if GPU is available, and if not, use the CPU\n",
    "device = torch.device(\"cuda\" if torch.cuda.is_available() else \"cpu\")\n",
    "\n",
    "# Below we are preprocessing data for CIFAR-10. We use an arbitrary batch size of 128.\n",
    "transforms_cifar = transforms.Compose([\n",
    "    transforms.ToTensor(),\n",
    "    transforms.Normalize(mean=[0.485, 0.456, 0.406], std=[0.229, 0.224, 0.225]),])\n",
    "\n",
    "# Loading the CIFAR-10 dataset:\n",
    "train_dataset = datasets.CIFAR10(root='./data', train=True, download=True, transform=transforms_cifar)\n",
    "test_dataset = datasets.CIFAR10(root='./data', train=False, download=True, transform=transforms_cifar)\n",
    " \n",
    "# Dataloaders\n",
    "\n",
    "train_loader = torch.utils.data.DataLoader(train_dataset, batch_size=128, shuffle=True, num_workers=2)\n",
    "test_loader = torch.utils.data.DataLoader(test_dataset, batch_size=128, shuffle=False, num_workers=2)\n"
   ],
   "id": "e00f96571c1c5a3d",
   "outputs": [
    {
     "name": "stdout",
     "output_type": "stream",
     "text": [
      "Files already downloaded and verified\n",
      "Files already downloaded and verified\n"
     ]
    }
   ],
   "execution_count": 35
  },
  {
   "metadata": {},
   "cell_type": "markdown",
   "source": [
    "### Define deeper neural network to be used as teacher. \n",
    "Team: Replace with your network of choice here"
   ],
   "id": "bde8a78adfa4e19"
  },
  {
   "metadata": {
    "ExecuteTime": {
     "end_time": "2024-04-10T03:29:07.621241Z",
     "start_time": "2024-04-10T03:29:07.597968Z"
    }
   },
   "cell_type": "code",
   "source": [
    "class teacherNN(nn.Module):\n",
    "    def __init__(self, num_classes=10):\n",
    "        super(teacherNN, self).__init__()\n",
    "        self.features = nn.Sequential(\n",
    "            nn.Conv2d(3, 128, kernel_size=3, padding=1),\n",
    "            nn.ReLU(),\n",
    "            nn.Conv2d(128, 64, kernel_size=3, padding=1),\n",
    "            nn.ReLU(),\n",
    "            nn.MaxPool2d(kernel_size=2, stride=2),\n",
    "            nn.Conv2d(64, 64, kernel_size=3, padding=1),\n",
    "            nn.ReLU(),\n",
    "            nn.Conv2d(64, 32, kernel_size=3, padding=1),\n",
    "            nn.ReLU(),\n",
    "            nn.MaxPool2d(kernel_size=2, stride=2),\n",
    "        )\n",
    "        self.classifier = nn.Sequential(\n",
    "            nn.Linear(2048, 512),\n",
    "            nn.ReLU(),\n",
    "            nn.Dropout(0.1),\n",
    "            nn.Linear(512, num_classes)\n",
    "        )\n",
    "\n",
    "    def forward(self, x):\n",
    "        x = self.features(x)\n",
    "        x = torch.flatten(x, 1)\n",
    "        x = self.classifier(x)\n",
    "        return x"
   ],
   "id": "4780ca82b559df31",
   "outputs": [],
   "execution_count": 50
  },
  {
   "metadata": {},
   "cell_type": "markdown",
   "source": [
    "### Define student network\n",
    "Replace with your network of choice here"
   ],
   "id": "bffe046810950e79"
  },
  {
   "metadata": {
    "ExecuteTime": {
     "end_time": "2024-04-10T03:29:09.443026Z",
     "start_time": "2024-04-10T03:29:09.402151Z"
    }
   },
   "cell_type": "code",
   "source": [
    "class studentNN(nn.Module):\n",
    "    def __init__(self, num_classes=10):\n",
    "        super(studentNN, self).__init__()\n",
    "        self.features = nn.Sequential(\n",
    "            nn.Conv2d(3, 16, kernel_size=3, padding=1),\n",
    "            nn.ReLU(),\n",
    "            nn.MaxPool2d(kernel_size=2, stride=2),\n",
    "            nn.Conv2d(16, 16, kernel_size=3, padding=1),\n",
    "            nn.ReLU(),\n",
    "            nn.MaxPool2d(kernel_size=2, stride=2),\n",
    "        )\n",
    "        self.classifier = nn.Sequential(\n",
    "            nn.Linear(1024, 256),\n",
    "            nn.ReLU(),\n",
    "            nn.Dropout(0.1),\n",
    "            nn.Linear(256, num_classes)\n",
    "        )\n",
    "\n",
    "    def forward(self, x):\n",
    "        x = self.features(x)\n",
    "        x = torch.flatten(x, 1)\n",
    "        x = self.classifier(x)\n",
    "        return x"
   ],
   "id": "cef6b8911ea191b3",
   "outputs": [],
   "execution_count": 51
  },
  {
   "metadata": {},
   "cell_type": "markdown",
   "source": "### Define train and test function",
   "id": "33af03f44164e9de"
  },
  {
   "metadata": {
    "ExecuteTime": {
     "end_time": "2024-04-10T03:29:13.379037Z",
     "start_time": "2024-04-10T03:29:13.346104Z"
    }
   },
   "cell_type": "code",
   "source": [
    "def train(model, train_loader, epochs, learning_rate, device):\n",
    "    criterion = nn.CrossEntropyLoss()\n",
    "    optimizer = optim.Adam(model.parameters(), lr=learning_rate)\n",
    "\n",
    "    model.train()\n",
    "\n",
    "    for epoch in range(epochs):\n",
    "        running_loss = 0.0\n",
    "        for inputs, labels in train_loader:\n",
    "            # inputs: A collection of batch_size images\n",
    "            # labels: A vector of dimensionality batch_size with integers denoting class of each image\n",
    "            inputs, labels = inputs.to(device), labels.to(device)\n",
    "\n",
    "            optimizer.zero_grad()\n",
    "            outputs = model(inputs)\n",
    "\n",
    "            # outputs: Output of the network for the collection of images. A tensor of dimensionality batch_size x num_classes\n",
    "            # labels: The actual labels of the images. Vector of dimensionality batch_size\n",
    "            loss = criterion(outputs, labels)\n",
    "            loss.backward()\n",
    "            optimizer.step()\n",
    "\n",
    "            running_loss += loss.item()\n",
    "\n",
    "        print(f\"Epoch {epoch+1}/{epochs}, Loss: {running_loss / len(train_loader)}\")\n",
    "\n",
    "def test(model, test_loader, device):\n",
    "    model.to(device)\n",
    "    model.eval()\n",
    "\n",
    "    correct = 0\n",
    "    total = 0\n",
    "\n",
    "    with torch.no_grad():\n",
    "        for inputs, labels in test_loader:\n",
    "            inputs, labels = inputs.to(device), labels.to(device)\n",
    "\n",
    "            outputs = model(inputs)\n",
    "            _, predicted = torch.max(outputs.data, 1)\n",
    "\n",
    "            total += labels.size(0)\n",
    "            correct += (predicted == labels).sum().item()\n",
    "\n",
    "    accuracy = 100 * correct / total\n",
    "    print(f\"Test Accuracy: {accuracy:.2f}%\")\n",
    "    return accuracy\n",
    "\n",
    "# Cross-entropy runs\n",
    "# For reproducibility, we need to set the torch manual seed. We train networks using different methods, so to compare\n",
    "# them fairly, it makes sense to initialize the networks with the same weights. Start by training the teacher network\n",
    "# using cross-entropy:"
   ],
   "id": "148ed29ebe462888",
   "outputs": [],
   "execution_count": 52
  },
  {
   "metadata": {},
   "cell_type": "markdown",
   "source": "### Define knowledge distillation function",
   "id": "c77126239715f624"
  },
  {
   "metadata": {
    "ExecuteTime": {
     "end_time": "2024-04-10T03:29:20.111014Z",
     "start_time": "2024-04-10T03:29:20.094814Z"
    }
   },
   "cell_type": "code",
   "source": [
    "\n",
    "def train_knowledge_distillation(teacher, student, train_loader, epochs, learning_rate, T, soft_target_loss_weight, ce_loss_weight, device):\n",
    "    print('Knowledge distillation training')\n",
    "    ce_loss = nn.CrossEntropyLoss()\n",
    "    optimizer = optim.Adam(student.parameters(), lr=learning_rate)\n",
    "\n",
    "    teacher.eval()  # Teacher set to evaluation mode\n",
    "    student.train() # Student to train mode\n",
    "\n",
    "    for epoch in range(epochs):\n",
    "        running_loss = 0.0\n",
    "        for inputs, labels in train_loader:\n",
    "            inputs, labels = inputs.to(device), labels.to(device)\n",
    "\n",
    "            optimizer.zero_grad()\n",
    "\n",
    "            # Forward pass with the teacher model - do not save gradients here as we do not change the teacher's weights\n",
    "            with torch.no_grad():\n",
    "                teacher_logits = teacher(inputs)\n",
    "\n",
    "            # Forward pass with the student model\n",
    "            student_logits = student(inputs)\n",
    "\n",
    "            #Soften the student logits by applying softmax first and log() second\n",
    "            soft_targets = nn.functional.softmax(teacher_logits / T, dim=-1)\n",
    "            soft_prob = nn.functional.log_softmax(student_logits / T, dim=-1)\n",
    "\n",
    "            # Calculate the soft target loss. Scaled by T**2 as suggested by the authors of the paper \"Distilling the knowledge in a neural network\"\n",
    "            soft_targets_loss = torch.sum(soft_targets * (soft_targets.log() - soft_prob)) / soft_prob.size()[0] * (T**2)\n",
    "\n",
    "            # Calculate the true label loss\n",
    "            label_loss = ce_loss(student_logits, labels)\n",
    "\n",
    "            # Weighted sum of the two losses\n",
    "            loss = soft_target_loss_weight * soft_targets_loss + ce_loss_weight * label_loss\n",
    "\n",
    "            loss.backward()\n",
    "            optimizer.step()\n",
    "\n",
    "            running_loss += loss.item()\n",
    "\n",
    "        print(f\"Epoch {epoch+1}/{epochs}, Loss: {running_loss / len(train_loader)}\")"
   ],
   "id": "439176069a736cfa",
   "outputs": [],
   "execution_count": 53
  },
  {
   "metadata": {},
   "cell_type": "markdown",
   "source": "### Instantiate and train the teacher net",
   "id": "b3f2c6a7be1f493b"
  },
  {
   "metadata": {
    "ExecuteTime": {
     "end_time": "2024-04-10T03:30:06.084381Z",
     "start_time": "2024-04-10T03:29:43.990725Z"
    }
   },
   "cell_type": "code",
   "source": [
    " # For reproducibility, we need to set the torch manual seed.We train networks using different methods,\n",
    "# so to compare them fairly, it makes sense to initialize the networks with the same weights.\n",
    "# Start by training the teacher network using cross-entropy:\n",
    "torch.manual_seed(42)\n",
    "teacher = teacherNN(num_classes=10).to(device)\n",
    "\n",
    "# IMPORTANT: To load the pretrained model from either Google Drive/Local Drive instead of training it, set one of the booleans to True. \n",
    "# Make sure the .pth file exists in the respective directory\n",
    "# .pth files are created further down after all training are completed \n",
    "\n",
    "load_teacher_model_from_Gdrive = False   # need to be on Colab \n",
    "load_teacher_model_from_local_hard_drive = True   \n",
    "\n",
    "if load_teacher_model_from_Gdrive:\n",
    "    from google.colab import drive\n",
    "    drive.mount('/content/drive')  \n",
    "    teacher.load_state_dict(torch.load(\"/content/drive/MyDrive/Colab Notebooks/teacher.pth\"  )) \n",
    "elif load_teacher_model_from_local_hard_drive : \n",
    "    teacher.load_state_dict(torch.load(\"./trained_model/teacher.pth\",map_location=device))    \n",
    "else:\n",
    "    train(teacher, train_loader, epochs=10, learning_rate=0.001, device=device)\n",
    "    \n",
    "test_accuracy_teacher = test(teacher, test_loader, device)"
   ],
   "id": "3b1299efc8a82d0f",
   "outputs": [
    {
     "name": "stdout",
     "output_type": "stream",
     "text": [
      "Test Accuracy: 75.23%\n"
     ]
    }
   ],
   "execution_count": 55
  },
  {
   "metadata": {},
   "cell_type": "markdown",
   "source": "### Instantiate the 2 identical student nets",
   "id": "6f9e65a166b4f447"
  },
  {
   "metadata": {
    "ExecuteTime": {
     "end_time": "2024-04-10T04:49:07.123639Z",
     "start_time": "2024-04-10T04:49:06.761509Z"
    }
   },
   "cell_type": "code",
   "source": [
    "\n",
    "# Instantiate the lightweight network:\n",
    "# We instantiate one more lightweight network model to compare their performances.\n",
    "# Back propagation is sensitive to weight initialization,\n",
    "# so we need to make sure these two networks have the exact same initialization.\n",
    "torch.manual_seed(42)\n",
    "learning_student = studentNN(num_classes=10).to(device)\n",
    "\n",
    "torch.manual_seed(42)\n",
    "non_learning_student = studentNN(num_classes=10).to(device)\n",
    "\n",
    "# To ensure we have created a copy of the first network, we inspect the norm of its first layer.\n",
    "# If it matches, then we are safe to conclude that the networks are indeed the same.\n",
    "\n",
    "# Print the norm of the first layer of the non learning student model\n",
    "print(\"Norm of 1st layer of nn_light:\", torch.norm(non_learning_student.features[0].weight).item())\n",
    "# Print the norm of the first layer of the learning student model\n",
    "print(\"Norm of 1st layer of new_nn_light:\", torch.norm(learning_student.features[0].weight).item())\n",
    "\n",
    "# Print the total number of parameters in each model:\n",
    "total_params_teacher = \"{:,}\".format(sum(p.numel() for p in teacher.parameters()))\n",
    "print(f\"DeepNN parameters: {total_params_teacher}\")\n",
    "total_params_non_learning_student = \"{:,}\".format(sum(p.numel() for p in non_learning_student.parameters()))\n",
    "print(f\"non_learning_student parameters: {total_params_non_learning_student}\")\n",
    "total_params_learning_student = \"{:,}\".format(sum(p.numel() for p in learning_student.parameters()))\n",
    "print(f\"learning_student parameters: {total_params_learning_student}\")\n",
    "\n"
   ],
   "id": "c83345791928e709",
   "outputs": [
    {
     "name": "stdout",
     "output_type": "stream",
     "text": [
      "Norm of 1st layer of nn_light: 2.327361822128296\n",
      "Norm of 1st layer of new_nn_light: 2.327361822128296\n",
      "DeepNN parameters: 1,186,986\n",
      "non_learning_student parameters: 267,738\n",
      "learning_student parameters: 267,738\n"
     ]
    }
   ],
   "execution_count": 65
  },
  {
   "metadata": {},
   "cell_type": "markdown",
   "source": "### Train the student and compare to the one without teacher",
   "id": "fdf4aa2903489743"
  },
  {
   "metadata": {
    "ExecuteTime": {
     "end_time": "2024-04-10T03:31:10.966824Z",
     "start_time": "2024-04-10T03:30:53.052990Z"
    }
   },
   "cell_type": "code",
   "source": [
    "\n",
    "# IMPORTANT: To load the pretrained model from either Google Drive/Local Drive instead of training it, set one of the booleans to True. \n",
    "# Make sure the .pth file exists in the respective directory\n",
    "# .pth files are created further down after all training are completed \n",
    "\n",
    "load_non_learning_student_model_from_Gdrive = False   # need to be on Colab \n",
    "load_non_learning_student_model_from_local_hard_drive = True   \n",
    "\n",
    "if load_non_learning_student_model_from_Gdrive:\n",
    "    from google.colab import drive\n",
    "    drive.mount('/content/drive')  \n",
    "    non_learning_student.load_state_dict(torch.load(\"/content/drive/MyDrive/Colab Notebooks/non_learning_student.pth\"  )) \n",
    "elif load_non_learning_student_model_from_local_hard_drive : \n",
    "    non_learning_student.load_state_dict(torch.load(\"./trained_model/non_learning_student.pth\",map_location=device))    \n",
    "else:\n",
    "    train(non_learning_student, train_loader, epochs=10, learning_rate=0.001, device=device)\n",
    " \n",
    "test_accuracy_non_learning = test(non_learning_student, test_loader, device)\n",
    "\n",
    "print(f\"Teacher accuracy: {test_accuracy_teacher:.2f}%\")\n",
    "print(f\"Student accuracy: {test_accuracy_non_learning:.2f}%\")\n",
    "\n",
    "\n",
    "load_learning_student_model_from_Gdrive = False   # need to be on Colab \n",
    "load_learning_student_model_from_local_hard_drive = True   \n",
    "\n",
    "if load_learning_student_model_from_Gdrive:\n",
    "    from google.colab import drive\n",
    "    drive.mount('/content/drive')  \n",
    "    learning_student.load_state_dict(torch.load(\"/content/drive/MyDrive/Colab Notebooks/learning_student.pth\"  )) \n",
    "elif load_learning_student_model_from_local_hard_drive : \n",
    "    learning_student.load_state_dict(torch.load(\"./trained_model/learning_student.pth\",map_location=device))    \n",
    "else:\n",
    "    # Apply ``train_knowledge_distillation`` with a temperature of 2. Arbitrarily set the weights to 0.75 for CE and 0.25 for distillation loss.\n",
    "    train_knowledge_distillation(teacher=teacher, student=learning_student, train_loader=train_loader, epochs=10, learning_rate=0.001, T=2, soft_target_loss_weight=0.25, ce_loss_weight=0.75, device=device)\n",
    "\n",
    "test_accuracy_learning_student = test(learning_student, test_loader, device)\n",
    "\n",
    "# Compare the student test accuracy with and without the teacher, after distillation\n",
    "# Result shouldn't be stellar because teacher's prediction can't beat ground truth here\n",
    "print(f\"Teacher accuracy: {test_accuracy_teacher:.2f}%\")\n",
    "print(f\"Student accuracy without teacher: {test_accuracy_non_learning:.2f}%\")\n",
    "print(f\"Student accuracy with CE + KD: {test_accuracy_learning_student:.2f}%\")"
   ],
   "id": "aed6645b3104a871",
   "outputs": [
    {
     "name": "stdout",
     "output_type": "stream",
     "text": [
      "Test Accuracy: 70.39%\n",
      "Teacher accuracy: 75.23%\n",
      "Student accuracy: 70.39%\n",
      "Test Accuracy: 70.65%\n",
      "Teacher accuracy: 75.23%\n",
      "Student accuracy without teacher: 70.39%\n",
      "Student accuracy with CE + KD: 70.65%\n"
     ]
    }
   ],
   "execution_count": 59
  },
  {
   "metadata": {},
   "cell_type": "markdown",
   "source": "### Save trained models - only run after training on Colab",
   "id": "20884ad6d26f749"
  },
  {
   "metadata": {
    "ExecuteTime": {
     "end_time": "2024-04-10T03:31:47.424802Z",
     "start_time": "2024-04-10T03:31:47.395369Z"
    }
   },
   "cell_type": "code",
   "source": [
    "# IMPORTANT\n",
    "# change the boolean below to True to save the trained model .pth file into your Google Drive\n",
    "# only work if executing on Google Colab\n",
    "save_model_to_Gdrive = False # need to be on Colab \n",
    "save_model_to_local_drive = False \n",
    "if save_model_to_Gdrive:\n",
    "    from google.colab import drive\n",
    "    drive.mount('/content/drive')\n",
    "    torch.save(teacher.state_dict(), \"/content/drive/MyDrive/Colab Notebooks/teacher.pth\")\n",
    "    torch.save(non_learning_student.state_dict(), \"/content/drive/MyDrive/Colab Notebooks/non_learning_student.pth\") # non-learning student\n",
    "    torch.save(learning_student.state_dict(), \"/content/drive/MyDrive/Colab Notebooks/learning_student.pth\") # student after KD\n",
    "elif save_model_to_local_drive:\n",
    "    torch.save(teacher.state_dict(), \"./trained_model/teacher.pth\")\n",
    "    torch.save(non_learning_student.state_dict(), \"./trained_model/non_learning_student.pth\") # non-learning student\n",
    "    torch.save(learning_student.state_dict(), \"./trained_model/learning_student.pth\") # student after KD\n",
    "    \n",
    "    "
   ],
   "id": "15b8d4dff728654d",
   "outputs": [],
   "execution_count": 61
  },
  {
   "metadata": {},
   "cell_type": "markdown",
   "source": "### sandbox section: train the learning student on \"unlabeled\" data/transfer learning/finetuning",
   "id": "6e6bf620d3db47ba"
  },
  {
   "metadata": {
    "ExecuteTime": {
     "end_time": "2024-04-10T04:26:08.194854Z",
     "start_time": "2024-04-10T04:22:10.064337Z"
    }
   },
   "cell_type": "code",
   "source": [
    " \n",
    "# # Loading the CIFAR-100 dataset:\n",
    "# train_dataset = datasets.CIFAR100(root='./data', train=True, download=True, transform=transforms_cifar)\n",
    "# test_dataset = datasets.CIFAR100(root='./data', train=False, download=True, transform=transforms_cifar)\n",
    "#  \n",
    "# # Dataloaders\n",
    "# \n",
    "# train_loader = torch.utils.data.DataLoader(train_dataset, batch_size=128, shuffle=True, num_workers=2)\n",
    "# test_loader = torch.utils.data.DataLoader(test_dataset, batch_size=128, shuffle=False, num_workers=2)\n",
    "#   \n",
    "#  \n",
    "# # Test accuracy on all 3 models\n",
    "# test_accuracy_teacher = test(teacher, test_loader, device)\n",
    "# test_accuracy_non_learning_student = test(non_learning_student, test_loader, device)\n",
    "# test_accuracy_learning_student = test(learning_student, test_loader, device)\n",
    "# print(f\"Teacher accuracy on CIFAR100 - trained on CIFAR10 only: {test_accuracy_teacher:.2f}%\")\n",
    "# print(f\"non_learning_student accuracy on CIFAR100 test- trained on CIFAR100: {test_accuracy_non_learning_student:.2f}%\")\n",
    "# print(f\"learning_student accuracy on CIFAR100 test - trained on CIFAR10 and teacher's supervision: {test_accuracy_learning_student:.2f}%\")\n",
    " \n",
    " \n"
   ],
   "id": "b3678df67cc433b1",
   "outputs": [
    {
     "name": "stderr",
     "output_type": "stream",
     "text": [
      "Exception ignored in: <function _MultiProcessingDataLoaderIter.__del__ at 0x000001963F74BB50>\n",
      "Traceback (most recent call last):\n",
      "  File \"C:\\Users\\huyho\\DL\\teacher-student-network\\.venv\\lib\\site-packages\\torch\\utils\\data\\dataloader.py\", line 1479, in __del__\n",
      "    self._shutdown_workers()\n",
      "  File \"C:\\Users\\huyho\\DL\\teacher-student-network\\.venv\\lib\\site-packages\\torch\\utils\\data\\dataloader.py\", line 1437, in _shutdown_workers\n",
      "    if self._persistent_workers or self._workers_status[worker_id]:\n",
      "AttributeError: '_MultiProcessingDataLoaderIter' object has no attribute '_workers_status'\n"
     ]
    },
    {
     "ename": "KeyboardInterrupt",
     "evalue": "",
     "output_type": "error",
     "traceback": [
      "\u001B[1;31m---------------------------------------------------------------------------\u001B[0m",
      "\u001B[1;31mKeyboardInterrupt\u001B[0m                         Traceback (most recent call last)",
      "Cell \u001B[1;32mIn[64], line 3\u001B[0m\n\u001B[0;32m      1\u001B[0m \u001B[38;5;66;03m# pydev_debug_cell \u001B[39;00m\n\u001B[0;32m      2\u001B[0m \u001B[38;5;66;03m# Loading the CIFAR-100 dataset:\u001B[39;00m\n\u001B[1;32m----> 3\u001B[0m train_dataset \u001B[38;5;241m=\u001B[39m \u001B[43mdatasets\u001B[49m\u001B[38;5;241m.\u001B[39mCIFAR100(root\u001B[38;5;241m=\u001B[39m\u001B[38;5;124m'\u001B[39m\u001B[38;5;124m./data\u001B[39m\u001B[38;5;124m'\u001B[39m, train\u001B[38;5;241m=\u001B[39m\u001B[38;5;28;01mTrue\u001B[39;00m, download\u001B[38;5;241m=\u001B[39m\u001B[38;5;28;01mTrue\u001B[39;00m, transform\u001B[38;5;241m=\u001B[39mtransforms_cifar)\n\u001B[0;32m      4\u001B[0m test_dataset \u001B[38;5;241m=\u001B[39m datasets\u001B[38;5;241m.\u001B[39mCIFAR100(root\u001B[38;5;241m=\u001B[39m\u001B[38;5;124m'\u001B[39m\u001B[38;5;124m./data\u001B[39m\u001B[38;5;124m'\u001B[39m, train\u001B[38;5;241m=\u001B[39m\u001B[38;5;28;01mFalse\u001B[39;00m, download\u001B[38;5;241m=\u001B[39m\u001B[38;5;28;01mTrue\u001B[39;00m, transform\u001B[38;5;241m=\u001B[39mtransforms_cifar)\n\u001B[0;32m      6\u001B[0m \u001B[38;5;66;03m# Dataloaders\u001B[39;00m\n",
      "Cell \u001B[1;32mIn[64], line 3\u001B[0m\n\u001B[0;32m      1\u001B[0m \u001B[38;5;66;03m# pydev_debug_cell \u001B[39;00m\n\u001B[0;32m      2\u001B[0m \u001B[38;5;66;03m# Loading the CIFAR-100 dataset:\u001B[39;00m\n\u001B[1;32m----> 3\u001B[0m train_dataset \u001B[38;5;241m=\u001B[39m \u001B[43mdatasets\u001B[49m\u001B[38;5;241m.\u001B[39mCIFAR100(root\u001B[38;5;241m=\u001B[39m\u001B[38;5;124m'\u001B[39m\u001B[38;5;124m./data\u001B[39m\u001B[38;5;124m'\u001B[39m, train\u001B[38;5;241m=\u001B[39m\u001B[38;5;28;01mTrue\u001B[39;00m, download\u001B[38;5;241m=\u001B[39m\u001B[38;5;28;01mTrue\u001B[39;00m, transform\u001B[38;5;241m=\u001B[39mtransforms_cifar)\n\u001B[0;32m      4\u001B[0m test_dataset \u001B[38;5;241m=\u001B[39m datasets\u001B[38;5;241m.\u001B[39mCIFAR100(root\u001B[38;5;241m=\u001B[39m\u001B[38;5;124m'\u001B[39m\u001B[38;5;124m./data\u001B[39m\u001B[38;5;124m'\u001B[39m, train\u001B[38;5;241m=\u001B[39m\u001B[38;5;28;01mFalse\u001B[39;00m, download\u001B[38;5;241m=\u001B[39m\u001B[38;5;28;01mTrue\u001B[39;00m, transform\u001B[38;5;241m=\u001B[39mtransforms_cifar)\n\u001B[0;32m      6\u001B[0m \u001B[38;5;66;03m# Dataloaders\u001B[39;00m\n",
      "File \u001B[1;32m_pydevd_bundle\\\\pydevd_cython_win32_310_64.pyx:1187\u001B[0m, in \u001B[0;36m_pydevd_bundle.pydevd_cython_win32_310_64.SafeCallWrapper.__call__\u001B[1;34m()\u001B[0m\n",
      "File \u001B[1;32m_pydevd_bundle\\\\pydevd_cython_win32_310_64.pyx:627\u001B[0m, in \u001B[0;36m_pydevd_bundle.pydevd_cython_win32_310_64.PyDBFrame.trace_dispatch\u001B[1;34m()\u001B[0m\n",
      "File \u001B[1;32m_pydevd_bundle\\\\pydevd_cython_win32_310_64.pyx:937\u001B[0m, in \u001B[0;36m_pydevd_bundle.pydevd_cython_win32_310_64.PyDBFrame.trace_dispatch\u001B[1;34m()\u001B[0m\n",
      "File \u001B[1;32m_pydevd_bundle\\\\pydevd_cython_win32_310_64.pyx:928\u001B[0m, in \u001B[0;36m_pydevd_bundle.pydevd_cython_win32_310_64.PyDBFrame.trace_dispatch\u001B[1;34m()\u001B[0m\n",
      "File \u001B[1;32m_pydevd_bundle\\\\pydevd_cython_win32_310_64.pyx:585\u001B[0m, in \u001B[0;36m_pydevd_bundle.pydevd_cython_win32_310_64.PyDBFrame.do_wait_suspend\u001B[1;34m()\u001B[0m\n",
      "File \u001B[1;32mC:\\Program Files\\JetBrains\\PyCharm 2024.1\\plugins\\python\\helpers\\pydev\\pydevd.py:1185\u001B[0m, in \u001B[0;36mPyDB.do_wait_suspend\u001B[1;34m(self, thread, frame, event, arg, send_suspend_message, is_unhandled_exception)\u001B[0m\n\u001B[0;32m   1182\u001B[0m         from_this_thread\u001B[38;5;241m.\u001B[39mappend(frame_id)\n\u001B[0;32m   1184\u001B[0m \u001B[38;5;28;01mwith\u001B[39;00m \u001B[38;5;28mself\u001B[39m\u001B[38;5;241m.\u001B[39m_threads_suspended_single_notification\u001B[38;5;241m.\u001B[39mnotify_thread_suspended(thread_id, stop_reason):\n\u001B[1;32m-> 1185\u001B[0m     \u001B[38;5;28;43mself\u001B[39;49m\u001B[38;5;241;43m.\u001B[39;49m\u001B[43m_do_wait_suspend\u001B[49m\u001B[43m(\u001B[49m\u001B[43mthread\u001B[49m\u001B[43m,\u001B[49m\u001B[43m \u001B[49m\u001B[43mframe\u001B[49m\u001B[43m,\u001B[49m\u001B[43m \u001B[49m\u001B[43mevent\u001B[49m\u001B[43m,\u001B[49m\u001B[43m \u001B[49m\u001B[43marg\u001B[49m\u001B[43m,\u001B[49m\u001B[43m \u001B[49m\u001B[43msuspend_type\u001B[49m\u001B[43m,\u001B[49m\u001B[43m \u001B[49m\u001B[43mfrom_this_thread\u001B[49m\u001B[43m)\u001B[49m\n",
      "File \u001B[1;32mC:\\Program Files\\JetBrains\\PyCharm 2024.1\\plugins\\python\\helpers\\pydev\\pydevd.py:1200\u001B[0m, in \u001B[0;36mPyDB._do_wait_suspend\u001B[1;34m(self, thread, frame, event, arg, suspend_type, from_this_thread)\u001B[0m\n\u001B[0;32m   1197\u001B[0m             \u001B[38;5;28mself\u001B[39m\u001B[38;5;241m.\u001B[39m_call_mpl_hook()\n\u001B[0;32m   1199\u001B[0m         \u001B[38;5;28mself\u001B[39m\u001B[38;5;241m.\u001B[39mprocess_internal_commands()\n\u001B[1;32m-> 1200\u001B[0m         \u001B[43mtime\u001B[49m\u001B[38;5;241;43m.\u001B[39;49m\u001B[43msleep\u001B[49m\u001B[43m(\u001B[49m\u001B[38;5;241;43m0.01\u001B[39;49m\u001B[43m)\u001B[49m\n\u001B[0;32m   1202\u001B[0m \u001B[38;5;28mself\u001B[39m\u001B[38;5;241m.\u001B[39mcancel_async_evaluation(get_current_thread_id(thread), \u001B[38;5;28mstr\u001B[39m(\u001B[38;5;28mid\u001B[39m(frame)))\n\u001B[0;32m   1204\u001B[0m \u001B[38;5;66;03m# process any stepping instructions\u001B[39;00m\n",
      "\u001B[1;31mKeyboardInterrupt\u001B[0m: "
     ]
    }
   ],
   "execution_count": 64
  },
  {
   "metadata": {},
   "cell_type": "code",
   "outputs": [],
   "execution_count": null,
   "source": "",
   "id": "762d9c773c6e8439"
  }
 ],
 "metadata": {
  "kernelspec": {
   "display_name": "Python 3",
   "language": "python",
   "name": "python3"
  },
  "language_info": {
   "codemirror_mode": {
    "name": "ipython",
    "version": 2
   },
   "file_extension": ".py",
   "mimetype": "text/x-python",
   "name": "python",
   "nbconvert_exporter": "python",
   "pygments_lexer": "ipython2",
   "version": "2.7.6"
  }
 },
 "nbformat": 4,
 "nbformat_minor": 5
}
